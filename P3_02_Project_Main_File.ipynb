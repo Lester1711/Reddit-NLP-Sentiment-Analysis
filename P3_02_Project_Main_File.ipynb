{
 "cells": [
  {
   "cell_type": "markdown",
   "metadata": {},
   "source": [
    "# Project 3: Reddit Web API & Classification"
   ]
  },
  {
   "cell_type": "markdown",
   "metadata": {},
   "source": [
    "## Problem Statement"
   ]
  },
  {
   "cell_type": "markdown",
   "metadata": {},
   "source": [
    "<font color = blue>The Biden presidential election campaign team is trying to capture more voter share, specifically in the digital space where republician presidential candidate Donald Trump holds a stronger and more effective presence. By developing a text classifier to analyze online postings, using reddit as a base reference, the campaign team hopes to gain more insights into understanding sentiment in both the democratic and republican camps. 2 models: Logistic Regression and Naive Bayes, will be evaluated. This will allow the team to optimise resources and online efforts for the most impactful outreach and also use it to analyze other media platforms. Success will be measured by having a high degree of classification accuracy above the baseline score.\n",
    "</font>    "
   ]
  },
  {
   "cell_type": "markdown",
   "metadata": {},
   "source": [
    "## Executive Summary"
   ]
  },
  {
   "cell_type": "markdown",
   "metadata": {},
   "source": [
    "<font color = blue>The Biden Presidential Election Campaign Team is poised to help strategise, coordinate and execute the Biden's campaign efforts in the 2020 Presidential Race. Part of the key initiatives taken on within the team's strategic plan would be to use data driven methods such as web classification models to identify opportunities and weaknesses for structuring the campaigns.\n",
    "\n",
    "Currently, the presidential race is down to very narrow margins. The republican representative Donald Trump has a stronger and more effective online presence due to his engagement on social media platforms. This presents serious concern in a tight race given the volatility of voter sentiment. Due to the electorates being more online savvy in this generation, the campaign team would like to secure more support by gaining insight of online sentiment and to appeal to potential voters through these findings.\n",
    "    \n",
    "<br />\n",
    "To achieve this, the Biden campaign team is hoping to leverage on web api data extraction and natural language classifier techniques on various web discussion platforms. To construct a base reference, data pulled from subreddits under the democrat and republican categories will be used as a basis to train and select the best classifier model. With the use of the classifier, the team are better able to monitor trending topics that voters are concerned about most and gauge online sentiment for opportunities. This would enable Biden to be better prepared in communicating the most effective message on his trail.\n",
    "    \n",
    "Being staffed with experienced data analysts that have served in previous election campaign, the Biden campaign election team is seeking to gather more precise information on the US voter base. With this information, the firm hopes to optimize strategy and resources from information gathered using the developed model.\n",
    "</font>"
   ]
  },
  {
   "cell_type": "markdown",
   "metadata": {},
   "source": [
    "## Data Dictionary"
   ]
  },
  {
   "cell_type": "markdown",
   "metadata": {},
   "source": [
    "<font color=black><b>Reddit Data Dictionary (after cleaning)</b></font>\n",
    "    \n",
    "|Feature                        |Type    |Dataset|Description\n",
    "|:-----------------------       |:---    |:---|:---\n",
    "|<b>subreddit</b>                |string|project_data|Subreddit category\n",
    "|<b>title</b>                     |string |project_data|Post title text content\n"
   ]
  },
  {
   "cell_type": "markdown",
   "metadata": {},
   "source": [
    "## Methodology"
   ]
  },
  {
   "cell_type": "markdown",
   "metadata": {},
   "source": [
    "<font color=blue>\n",
    "The source of information to be extracted will be from the 2 respective subreddits:\n",
    "   <br \\>  \n",
    "<ul>\n",
    "    <li>Subreddit 1: r/democrat - source for democratic party related discussion (1)</li>    \n",
    "    <li>Subreddit 2: r/republican - source for republican party related discussion (0)</li> \n",
    "</ul>    \n",
    "    \n",
    "These sources will help gauge left or right sentiment and what sort of topics is trending for each side.\n",
    "    \n",
    "For the scope of this reddit analysis, there will be mainly 2 text vectorization methods used (<b>Count</b> & <b>TFID</b>) and 2 models (<b>Naive Bayes</b> and <b>Logistic Regression</b>) used for each method in evaluating the best classifer. <b>GridSearchCV</b> will be used to perform hyper parameter tuning in order to determine the optimal values for a given model. Hence the following testing steps will be performed in this sequence:\n",
    "\n",
    "<ul>\n",
    "    <li>CountVectorizer with Logistic Regression Classifer</li>    \n",
    "    <li>CountVectorizer with Naive Bayes Classifier</li> \n",
    "    <li>TfidfVectorizer with Logistic Regression Classifer</li> \n",
    "    <li>TfidfVectorizer with Naive Bayes Classifier</li> \n",
    "</ul>\n",
    "    \n",
    "The merged data will be subject to the following NLTK methods:\n",
    "    <ul>\n",
    "    <li>Tokenization</li>\n",
    "    <li>Stemming</li> \n",
    "    <li>Stopwords Filtering</li> \n",
    "</ul>\n",
    "\n",
    "</font>"
   ]
  },
  {
   "cell_type": "markdown",
   "metadata": {},
   "source": [
    "## <font color = black>Data Gathering</font>"
   ]
  },
  {
   "cell_type": "markdown",
   "metadata": {},
   "source": [
    "### <font color = blue>Please refer to the <font color = red><b>P3_01_Data_Scraping</b></font> file for the data scraping & collection steps</font>"
   ]
  },
  {
   "cell_type": "markdown",
   "metadata": {},
   "source": [
    "## <font color = black>Preprocessing</font>"
   ]
  },
  {
   "cell_type": "markdown",
   "metadata": {},
   "source": [
    "### Import the necessary libaries"
   ]
  },
  {
   "cell_type": "code",
   "execution_count": 1,
   "metadata": {},
   "outputs": [],
   "source": [
    "import pandas as pd\n",
    "import numpy as np\n",
    "import nltk\n",
    "import re\n",
    "from sklearn.feature_extraction.text import CountVectorizer\n",
    "from sklearn.feature_extraction.text import TfidfVectorizer\n",
    "from sklearn.naive_bayes import MultinomialNB\n",
    "from sklearn.model_selection import GridSearchCV\n",
    "from sklearn.model_selection import train_test_split\n",
    "from sklearn.pipeline import Pipeline\n",
    "from sklearn.linear_model import LogisticRegression\n",
    "from sklearn.metrics import classification_report\n",
    "from sklearn.metrics import confusion_matrix\n",
    "from nltk import word_tokenize\n",
    "from nltk.stem import PorterStemmer\n",
    "from wordcloud import WordCloud\n",
    "import matplotlib.pyplot as plt \n",
    "%matplotlib inline"
   ]
  },
  {
   "cell_type": "markdown",
   "metadata": {},
   "source": [
    "### Load the Data File"
   ]
  },
  {
   "cell_type": "code",
   "execution_count": 2,
   "metadata": {},
   "outputs": [
    {
     "data": {
      "text/html": [
       "<div>\n",
       "<style scoped>\n",
       "    .dataframe tbody tr th:only-of-type {\n",
       "        vertical-align: middle;\n",
       "    }\n",
       "\n",
       "    .dataframe tbody tr th {\n",
       "        vertical-align: top;\n",
       "    }\n",
       "\n",
       "    .dataframe thead th {\n",
       "        text-align: right;\n",
       "    }\n",
       "</style>\n",
       "<table border=\"1\" class=\"dataframe\">\n",
       "  <thead>\n",
       "    <tr style=\"text-align: right;\">\n",
       "      <th></th>\n",
       "      <th>subreddit</th>\n",
       "      <th>title</th>\n",
       "    </tr>\n",
       "  </thead>\n",
       "  <tbody>\n",
       "    <tr>\n",
       "      <th>0</th>\n",
       "      <td>democrats</td>\n",
       "      <td>Hey All! I made a documentary about Joe Biden....</td>\n",
       "    </tr>\n",
       "    <tr>\n",
       "      <th>1</th>\n",
       "      <td>democrats</td>\n",
       "      <td>It’s Time for a Blue Wave to Restore America.</td>\n",
       "    </tr>\n",
       "    <tr>\n",
       "      <th>2</th>\n",
       "      <td>democrats</td>\n",
       "      <td>In Scathing Letter, More Than 80-Percent of Fa...</td>\n",
       "    </tr>\n",
       "    <tr>\n",
       "      <th>3</th>\n",
       "      <td>democrats</td>\n",
       "      <td>Mark Cuban endorses Biden on Hannity: He 'actu...</td>\n",
       "    </tr>\n",
       "    <tr>\n",
       "      <th>4</th>\n",
       "      <td>democrats</td>\n",
       "      <td>Biden Surge and Trump Failures Expand Electora...</td>\n",
       "    </tr>\n",
       "  </tbody>\n",
       "</table>\n",
       "</div>"
      ],
      "text/plain": [
       "   subreddit                                              title\n",
       "0  democrats  Hey All! I made a documentary about Joe Biden....\n",
       "1  democrats      It’s Time for a Blue Wave to Restore America.\n",
       "2  democrats  In Scathing Letter, More Than 80-Percent of Fa...\n",
       "3  democrats  Mark Cuban endorses Biden on Hannity: He 'actu...\n",
       "4  democrats  Biden Surge and Trump Failures Expand Electora..."
      ]
     },
     "execution_count": 2,
     "metadata": {},
     "output_type": "execute_result"
    }
   ],
   "source": [
    "df = pd.read_csv('../project_3/project_data.csv')\n",
    "df.head()"
   ]
  },
  {
   "cell_type": "markdown",
   "metadata": {},
   "source": [
    "### Check values are even and set Baseline Score"
   ]
  },
  {
   "cell_type": "code",
   "execution_count": 3,
   "metadata": {},
   "outputs": [
    {
     "data": {
      "text/plain": [
       "Republican    810\n",
       "democrats     810\n",
       "Name: subreddit, dtype: int64"
      ]
     },
     "execution_count": 3,
     "metadata": {},
     "output_type": "execute_result"
    }
   ],
   "source": [
    "# Check numbers of each subreddit category\n",
    "\n",
    "df['subreddit'].value_counts()"
   ]
  },
  {
   "cell_type": "markdown",
   "metadata": {},
   "source": [
    "<font color=blue><b>The baseline score is thus 0.5 </b> <br />Note: Earlier in the data scraping file, row values were dropped to equalize both data sets.</font>"
   ]
  },
  {
   "cell_type": "markdown",
   "metadata": {},
   "source": [
    "### Tokenize & Stem the Title through a Custom Function"
   ]
  },
  {
   "cell_type": "code",
   "execution_count": 4,
   "metadata": {},
   "outputs": [],
   "source": [
    "def stem_function(words):\n",
    "    stemmer = PorterStemmer()\n",
    "    tokens = word_tokenize(words)\n",
    "    stemmed_tokens = [stemmer.stem(token) for token in tokens]\n",
    "    return ' '.join(stemmed_tokens)\n",
    "\n",
    "df['tokenized'] = df['title'].apply(stem_function)"
   ]
  },
  {
   "cell_type": "markdown",
   "metadata": {},
   "source": [
    "### Test that tokenization is working"
   ]
  },
  {
   "cell_type": "code",
   "execution_count": 5,
   "metadata": {},
   "outputs": [
    {
     "data": {
      "text/plain": [
       "'hey all ! I made a documentari about joe biden . I hope my fellow dem love thi as much as I love make it .'"
      ]
     },
     "execution_count": 5,
     "metadata": {},
     "output_type": "execute_result"
    }
   ],
   "source": [
    "df['tokenized'][0]"
   ]
  },
  {
   "cell_type": "code",
   "execution_count": 6,
   "metadata": {
    "scrolled": false
   },
   "outputs": [
    {
     "data": {
      "text/html": [
       "<div>\n",
       "<style scoped>\n",
       "    .dataframe tbody tr th:only-of-type {\n",
       "        vertical-align: middle;\n",
       "    }\n",
       "\n",
       "    .dataframe tbody tr th {\n",
       "        vertical-align: top;\n",
       "    }\n",
       "\n",
       "    .dataframe thead th {\n",
       "        text-align: right;\n",
       "    }\n",
       "</style>\n",
       "<table border=\"1\" class=\"dataframe\">\n",
       "  <thead>\n",
       "    <tr style=\"text-align: right;\">\n",
       "      <th></th>\n",
       "      <th>subreddit</th>\n",
       "      <th>title</th>\n",
       "      <th>tokenized</th>\n",
       "    </tr>\n",
       "  </thead>\n",
       "  <tbody>\n",
       "    <tr>\n",
       "      <th>0</th>\n",
       "      <td>democrats</td>\n",
       "      <td>Hey All! I made a documentary about Joe Biden....</td>\n",
       "      <td>hey all ! I made a documentari about joe biden...</td>\n",
       "    </tr>\n",
       "    <tr>\n",
       "      <th>1</th>\n",
       "      <td>democrats</td>\n",
       "      <td>It’s Time for a Blue Wave to Restore America.</td>\n",
       "      <td>It ’ s time for a blue wave to restor america .</td>\n",
       "    </tr>\n",
       "    <tr>\n",
       "      <th>2</th>\n",
       "      <td>democrats</td>\n",
       "      <td>In Scathing Letter, More Than 80-Percent of Fa...</td>\n",
       "      <td>In scath letter , more than 80-percent of facu...</td>\n",
       "    </tr>\n",
       "    <tr>\n",
       "      <th>3</th>\n",
       "      <td>democrats</td>\n",
       "      <td>Mark Cuban endorses Biden on Hannity: He 'actu...</td>\n",
       "      <td>mark cuban endors biden on hanniti : He 'actua...</td>\n",
       "    </tr>\n",
       "    <tr>\n",
       "      <th>4</th>\n",
       "      <td>democrats</td>\n",
       "      <td>Biden Surge and Trump Failures Expand Electora...</td>\n",
       "      <td>biden surg and trump failur expand elector map</td>\n",
       "    </tr>\n",
       "  </tbody>\n",
       "</table>\n",
       "</div>"
      ],
      "text/plain": [
       "   subreddit                                              title  \\\n",
       "0  democrats  Hey All! I made a documentary about Joe Biden....   \n",
       "1  democrats      It’s Time for a Blue Wave to Restore America.   \n",
       "2  democrats  In Scathing Letter, More Than 80-Percent of Fa...   \n",
       "3  democrats  Mark Cuban endorses Biden on Hannity: He 'actu...   \n",
       "4  democrats  Biden Surge and Trump Failures Expand Electora...   \n",
       "\n",
       "                                           tokenized  \n",
       "0  hey all ! I made a documentari about joe biden...  \n",
       "1    It ’ s time for a blue wave to restor america .  \n",
       "2  In scath letter , more than 80-percent of facu...  \n",
       "3  mark cuban endors biden on hanniti : He 'actua...  \n",
       "4     biden surg and trump failur expand elector map  "
      ]
     },
     "execution_count": 6,
     "metadata": {},
     "output_type": "execute_result"
    }
   ],
   "source": [
    "# Inspect the text content in the new \"tokenized\" column\n",
    "\n",
    "df.head()"
   ]
  },
  {
   "cell_type": "markdown",
   "metadata": {},
   "source": [
    "### Label Encode the Target Set"
   ]
  },
  {
   "cell_type": "markdown",
   "metadata": {},
   "source": [
    "<font color=blue>\n",
    "\n",
    "Assign the following values for the following variables:\n",
    "   <ul>\n",
    "       <li>democrats - 1 </li> \n",
    "       <li>republican - 0 </li>     \n",
    "   </ul>\n",
    "</font>"
   ]
  },
  {
   "cell_type": "code",
   "execution_count": 7,
   "metadata": {
    "scrolled": true
   },
   "outputs": [
    {
     "data": {
      "text/plain": [
       "0    1\n",
       "1    1\n",
       "Name: subreddit, dtype: int64"
      ]
     },
     "execution_count": 7,
     "metadata": {},
     "output_type": "execute_result"
    }
   ],
   "source": [
    "df['subreddit']  = df['subreddit'].apply(lambda x: x.lower())\n",
    "df['subreddit'] = df['subreddit'].map({'democrats':1,'republican': 0})\n",
    "df['subreddit'].head(2)"
   ]
  },
  {
   "cell_type": "code",
   "execution_count": 8,
   "metadata": {},
   "outputs": [
    {
     "data": {
      "text/plain": [
       "1618    0\n",
       "1619    0\n",
       "Name: subreddit, dtype: int64"
      ]
     },
     "execution_count": 8,
     "metadata": {},
     "output_type": "execute_result"
    }
   ],
   "source": [
    "# Check if encoding is successful\n",
    "df['subreddit'].tail(2)"
   ]
  },
  {
   "cell_type": "markdown",
   "metadata": {},
   "source": [
    "## <font color = black>Exploratory Data Analysis (EDA)</font>"
   ]
  },
  {
   "cell_type": "markdown",
   "metadata": {},
   "source": [
    "### Outliers"
   ]
  },
  {
   "cell_type": "markdown",
   "metadata": {},
   "source": [
    "<font color=blue>The presence of outliers is not really applicable for this natural language processing project since the word syntax is such that certain words are needed to be more commonly used that another. The closest treatment would be during the modeling portion where the words below or beyond a certain frequency would be removed.</font>"
   ]
  },
  {
   "cell_type": "markdown",
   "metadata": {},
   "source": [
    "### Visualisation of Individual Subreddits"
   ]
  },
  {
   "cell_type": "markdown",
   "metadata": {},
   "source": [
    "<font color=blue>We would like to examine the type of word frequencies that appear for each individual reddit in the absence of any pre-processing.</font>"
   ]
  },
  {
   "cell_type": "code",
   "execution_count": 9,
   "metadata": {},
   "outputs": [],
   "source": [
    "# Load both the democratic data set and the republican data set\n",
    "dem = pd.read_csv('../project_3/democrats.csv')\n",
    "rep = pd.read_csv('../project_3/republicans.csv')"
   ]
  },
  {
   "cell_type": "markdown",
   "metadata": {},
   "source": [
    "<font color=blue>Check that both files have been imported correctly</font>"
   ]
  },
  {
   "cell_type": "code",
   "execution_count": 10,
   "metadata": {
    "scrolled": true
   },
   "outputs": [
    {
     "data": {
      "text/html": [
       "<div>\n",
       "<style scoped>\n",
       "    .dataframe tbody tr th:only-of-type {\n",
       "        vertical-align: middle;\n",
       "    }\n",
       "\n",
       "    .dataframe tbody tr th {\n",
       "        vertical-align: top;\n",
       "    }\n",
       "\n",
       "    .dataframe thead th {\n",
       "        text-align: right;\n",
       "    }\n",
       "</style>\n",
       "<table border=\"1\" class=\"dataframe\">\n",
       "  <thead>\n",
       "    <tr style=\"text-align: right;\">\n",
       "      <th></th>\n",
       "      <th>subreddit</th>\n",
       "      <th>title</th>\n",
       "      <th>selftext</th>\n",
       "    </tr>\n",
       "  </thead>\n",
       "  <tbody>\n",
       "    <tr>\n",
       "      <th>0</th>\n",
       "      <td>democrats</td>\n",
       "      <td>Hey All! I made a documentary about Joe Biden....</td>\n",
       "      <td>NaN</td>\n",
       "    </tr>\n",
       "    <tr>\n",
       "      <th>1</th>\n",
       "      <td>democrats</td>\n",
       "      <td>It’s Time for a Blue Wave to Restore America.</td>\n",
       "      <td>NaN</td>\n",
       "    </tr>\n",
       "  </tbody>\n",
       "</table>\n",
       "</div>"
      ],
      "text/plain": [
       "   subreddit                                              title selftext\n",
       "0  democrats  Hey All! I made a documentary about Joe Biden....      NaN\n",
       "1  democrats      It’s Time for a Blue Wave to Restore America.      NaN"
      ]
     },
     "execution_count": 10,
     "metadata": {},
     "output_type": "execute_result"
    }
   ],
   "source": [
    "dem.head(2)"
   ]
  },
  {
   "cell_type": "code",
   "execution_count": 11,
   "metadata": {
    "scrolled": true
   },
   "outputs": [
    {
     "data": {
      "text/html": [
       "<div>\n",
       "<style scoped>\n",
       "    .dataframe tbody tr th:only-of-type {\n",
       "        vertical-align: middle;\n",
       "    }\n",
       "\n",
       "    .dataframe tbody tr th {\n",
       "        vertical-align: top;\n",
       "    }\n",
       "\n",
       "    .dataframe thead th {\n",
       "        text-align: right;\n",
       "    }\n",
       "</style>\n",
       "<table border=\"1\" class=\"dataframe\">\n",
       "  <thead>\n",
       "    <tr style=\"text-align: right;\">\n",
       "      <th></th>\n",
       "      <th>subreddit</th>\n",
       "      <th>title</th>\n",
       "      <th>selftext</th>\n",
       "    </tr>\n",
       "  </thead>\n",
       "  <tbody>\n",
       "    <tr>\n",
       "      <th>0</th>\n",
       "      <td>Republican</td>\n",
       "      <td>New evidence shows it is time to charge Joe Bi...</td>\n",
       "      <td>NaN</td>\n",
       "    </tr>\n",
       "    <tr>\n",
       "      <th>1</th>\n",
       "      <td>Republican</td>\n",
       "      <td>Just putting this out there.</td>\n",
       "      <td>NaN</td>\n",
       "    </tr>\n",
       "  </tbody>\n",
       "</table>\n",
       "</div>"
      ],
      "text/plain": [
       "    subreddit                                              title selftext\n",
       "0  Republican  New evidence shows it is time to charge Joe Bi...      NaN\n",
       "1  Republican                       Just putting this out there.      NaN"
      ]
     },
     "execution_count": 11,
     "metadata": {},
     "output_type": "execute_result"
    }
   ],
   "source": [
    "rep.head(2)"
   ]
  },
  {
   "cell_type": "markdown",
   "metadata": {},
   "source": [
    "<font color=blue>Remove some key words for better visualization. Stop words will not be included for now</font>"
   ]
  },
  {
   "cell_type": "code",
   "execution_count": 12,
   "metadata": {},
   "outputs": [],
   "source": [
    "dem['title']  = dem['title'].apply(lambda x: x.lower())\n",
    "rep['title']  = rep['title'].apply(lambda x: x.lower())"
   ]
  },
  {
   "cell_type": "code",
   "execution_count": 13,
   "metadata": {},
   "outputs": [],
   "source": [
    "remove_words= ['democrat','republican','trump','biden','joe']\n",
    "dem['title'] = dem['title'].str.replace('|'.join([re.escape(s) for s in remove_words]), '')\n",
    "rep['title'] = rep['title'].str.replace('|'.join([re.escape(s) for s in remove_words]), '')"
   ]
  },
  {
   "cell_type": "markdown",
   "metadata": {},
   "source": [
    "### Prepare the Count Vectorizor to convert into Matrix Representation"
   ]
  },
  {
   "cell_type": "code",
   "execution_count": 14,
   "metadata": {},
   "outputs": [],
   "source": [
    "# instantiate count vectorizer\n",
    "\n",
    "cvc = CountVectorizer()"
   ]
  },
  {
   "cell_type": "code",
   "execution_count": 15,
   "metadata": {},
   "outputs": [],
   "source": [
    "#fit transform text for republican subreddit data as an exmple\n",
    "\n",
    "rep_countvec = cvc.fit_transform(rep['title'])\n",
    "rep_countvec = rep_countvec.toarray()"
   ]
  },
  {
   "cell_type": "code",
   "execution_count": 16,
   "metadata": {},
   "outputs": [
    {
     "data": {
      "text/plain": [
       "810"
      ]
     },
     "execution_count": 16,
     "metadata": {},
     "output_type": "execute_result"
    }
   ],
   "source": [
    "# verify the word count is still correct\n",
    "\n",
    "len(rep_countvec)"
   ]
  },
  {
   "cell_type": "code",
   "execution_count": 17,
   "metadata": {},
   "outputs": [],
   "source": [
    "#creating dataframe to store word frequency counts for republicans\n",
    "\n",
    "rt = pd.DataFrame(rep_countvec, columns = cvc.get_feature_names())\n",
    "rep_topwords = rt.sum(axis=0).sort_values(ascending=False)"
   ]
  },
  {
   "cell_type": "markdown",
   "metadata": {},
   "source": [
    "### <font color=red> Barplot & Word Cloud Visualization </font>"
   ]
  },
  {
   "cell_type": "markdown",
   "metadata": {},
   "source": [
    "### Generate the Democratic Word Cloud"
   ]
  },
  {
   "cell_type": "code",
   "execution_count": 18,
   "metadata": {
    "scrolled": false
   },
   "outputs": [
    {
     "data": {
      "image/png": "[encoded data removed]",
      "text/plain": [
       "<Figure size 864x864 with 1 Axes>"
      ]
     },
     "metadata": {
      "needs_background": "light"
     },
     "output_type": "display_data"
    }
   ],
   "source": [
    "dem_cloud = WordCloud(background_color ='white').generate(' '.join(dem['title']))\n",
    "\n",
    "plt.figure(figsize = (12, 12), facecolor = None) \n",
    "plt.imshow(dem_cloud)\n",
    "plt.axis(\"off\")\n",
    "plt.show()"
   ]
  },
  {
   "cell_type": "markdown",
   "metadata": {},
   "source": [
    "<font color=blue>Some of top words for the Democratic (exluding duplicates and the word \"new\" which is not a keyword) can be inferred as such:<br />\n",
    "    <ul>\n",
    "    <li><b>poll</b> - Presumably linked to the presidential polls</li>\n",
    "    <li><b>president</b> - Presumably linked to controversial Donald Trump</li>\n",
    "    <li><b>police</b>- Presumably linked to the protests and police reform legislations</li>\n",
    "    <li><b>protest</b> - Presumably linked to the George Floyd protests</li>\n",
    "    <li><b>campaign</b> - Presumably linked to ongoing presidential campaign</li>\n",
    "    <li><b>coronavirus</b> - Presumably linked to the current coronavirus pandemic</li>\n",
    "    </ul>\n",
    "The democratic crowd strongly follows the presidential campaign very closely and also makes mentions of Trump (either critically or newsworthy). The racial and police riots are also strongly trending. Finally, the democratic group are also concerned over the ongoing coronavirus pandemic.    \n",
    "    \n",
    "</font>"
   ]
  },
  {
   "cell_type": "markdown",
   "metadata": {},
   "source": [
    "### Generate the Republican Word Cloud"
   ]
  },
  {
   "cell_type": "code",
   "execution_count": 19,
   "metadata": {
    "scrolled": true
   },
   "outputs": [
    {
     "data": {
      "image/png": "[encoded data removed]",
      "text/plain": [
       "<Figure size 864x864 with 1 Axes>"
      ]
     },
     "metadata": {
      "needs_background": "light"
     },
     "output_type": "display_data"
    }
   ],
   "source": [
    "rep_cloud = WordCloud(background_color ='white').generate(' '.join(rep['title']))\n",
    "\n",
    "plt.figure(figsize = (12, 12), facecolor = None) \n",
    "plt.imshow(rep_cloud)\n",
    "plt.axis(\"off\")\n",
    "plt.show()"
   ]
  },
  {
   "cell_type": "markdown",
   "metadata": {},
   "source": [
    "<font color=blue>Some of top words for the Republicans (exluding duplicates) can be inferred as such:<br />\n",
    "    <ul>\n",
    "    <li><b>police</b> - Presumably linked to the protests and police reform legislations</li>\n",
    "    <li><b>black</b> - Presumably linked to the protests and Black-Lives-Matter movement</li>\n",
    "    <li><b>statue</b>- Presumably linked to the statue vandalization incident</li>\n",
    "    <li><b>lives</b> - Presumably linked to the protests and Black-Lives-Matter movement</li>\n",
    "     <li><b>seattle</b> - Presumably linked to protests in Seattle over police funding</li> </ul>\n",
    "The republican crowd mainly follows news regarding the police embroiled in the racial protests and also the Black-Lives-Matter movement itself.    \n",
    "</font>"
   ]
  },
  {
   "cell_type": "markdown",
   "metadata": {},
   "source": [
    "### Barplot of Republican Top Words"
   ]
  },
  {
   "cell_type": "code",
   "execution_count": 20,
   "metadata": {
    "scrolled": true
   },
   "outputs": [
    {
     "data": {
      "image/png": "[encoded data removed]",
      "text/plain": [
       "<Figure size 4320x1440 with 1 Axes>"
      ]
     },
     "metadata": {
      "needs_background": "light"
     },
     "output_type": "display_data"
    }
   ],
   "source": [
    "#plot barchart for frequency of top republican reddit words\n",
    "[plt.cm.Paired(np.arange(len(df)))]\n",
    "pd.Series(rep_topwords.head(30)).plot.bar(figsize=(60,20),color='g')\n",
    "plt.title('Republican Top Words', fontsize =50)\n",
    "plt.xticks(fontsize=30)\n",
    "plt.yticks(fontsize=30)\n",
    "plt.ylabel('Count', fontsize=35);"
   ]
  },
  {
   "cell_type": "markdown",
   "metadata": {},
   "source": [
    "<font color=blue> Ignoring the stop words, the key top few words are still words like: <font color=black><b>black</b></font>,<font color=black><b>police</b></font>,<font color=black><b>lives</b></font>,<font color=black><b>statue</b></font>,<font color=black><b>white</b></font> : all which are very identical match to the word cloud."
   ]
  },
  {
   "cell_type": "markdown",
   "metadata": {},
   "source": [
    "### Further Inferences on Individual Reddits"
   ]
  },
  {
   "cell_type": "markdown",
   "metadata": {},
   "source": [
    "<font color=blue>Based on these initial EDA findings of keywords alone, we have a rudimentary and important understanding of the main issues facing both camps and how we should structure our approach towards resolving or aligning Biden's campaign alongside these concerns. These strategies will be elaborated more in detail during the conclusion and recommendations.</font>"
   ]
  },
  {
   "cell_type": "markdown",
   "metadata": {},
   "source": [
    "### Pre-Modelling Visualization of Word Frequency for Combined Data"
   ]
  },
  {
   "cell_type": "code",
   "execution_count": 21,
   "metadata": {},
   "outputs": [],
   "source": [
    "combined_cloud = WordCloud(background_color ='white').generate(' '.join(df['tokenized']))"
   ]
  },
  {
   "cell_type": "code",
   "execution_count": 22,
   "metadata": {
    "scrolled": true
   },
   "outputs": [
    {
     "data": {
      "image/png": "[encoded data removed]",
      "text/plain": [
       "<Figure size 720x720 with 1 Axes>"
      ]
     },
     "metadata": {
      "needs_background": "light"
     },
     "output_type": "display_data"
    }
   ],
   "source": [
    "plt.figure(figsize = (10, 10), facecolor = None) \n",
    "plt.imshow(combined_cloud)\n",
    "plt.axis(\"off\")\n",
    "plt.show()"
   ]
  },
  {
   "cell_type": "markdown",
   "metadata": {},
   "source": [
    "<font color=blue> It is not very surprising to find that the presidential candidates and the ongoing protests are the main keywords that appear for the merged word cloud.\n",
    "</font>"
   ]
  },
  {
   "cell_type": "markdown",
   "metadata": {},
   "source": [
    "## <font color=red>Modeling using the Count Vectorizer Method</font>"
   ]
  },
  {
   "cell_type": "markdown",
   "metadata": {},
   "source": [
    "<font color=blue>The CountVectorizer implements both tokenization (breaking text documents unique words or tokens) and occurrence counting in a single class. This enables the word blocks to be broken up into an individual word matrix.</font>"
   ]
  },
  {
   "cell_type": "markdown",
   "metadata": {},
   "source": [
    "## <font color=black>Model Preparation</font>"
   ]
  },
  {
   "cell_type": "markdown",
   "metadata": {},
   "source": [
    "### Set Train Test Split"
   ]
  },
  {
   "cell_type": "code",
   "execution_count": 23,
   "metadata": {},
   "outputs": [],
   "source": [
    "#Separate data into comment text (features) and subreddit (target variable)\n",
    "X = df['title']\n",
    "y = df['subreddit']\n",
    "\n",
    "#Train test split. \n",
    "X_train, X_test, y_train, y_test = train_test_split(X,y,shuffle=True,stratify=y)"
   ]
  },
  {
   "cell_type": "code",
   "execution_count": 24,
   "metadata": {},
   "outputs": [
    {
     "data": {
      "text/plain": [
       "0    Hey All! I made a documentary about Joe Biden....\n",
       "1        It’s Time for a Blue Wave to Restore America.\n",
       "2    In Scathing Letter, More Than 80-Percent of Fa...\n",
       "3    Mark Cuban endorses Biden on Hannity: He 'actu...\n",
       "4    Biden Surge and Trump Failures Expand Electora...\n",
       "Name: title, dtype: object"
      ]
     },
     "execution_count": 24,
     "metadata": {},
     "output_type": "execute_result"
    }
   ],
   "source": [
    "# Do a check on the feature set to make sure data is in order\n",
    "X.head()"
   ]
  },
  {
   "cell_type": "code",
   "execution_count": 25,
   "metadata": {},
   "outputs": [
    {
     "data": {
      "text/plain": [
       "(1620,)"
      ]
     },
     "execution_count": 25,
     "metadata": {},
     "output_type": "execute_result"
    }
   ],
   "source": [
    "X.shape"
   ]
  },
  {
   "cell_type": "code",
   "execution_count": 26,
   "metadata": {},
   "outputs": [
    {
     "data": {
      "text/plain": [
       "0    1\n",
       "1    1\n",
       "Name: subreddit, dtype: int64"
      ]
     },
     "execution_count": 26,
     "metadata": {},
     "output_type": "execute_result"
    }
   ],
   "source": [
    "# Do a check on the target set to make sure data is in order\n",
    "y.head(2)"
   ]
  },
  {
   "cell_type": "code",
   "execution_count": 27,
   "metadata": {},
   "outputs": [
    {
     "data": {
      "text/plain": [
       "1618    0\n",
       "1619    0\n",
       "Name: subreddit, dtype: int64"
      ]
     },
     "execution_count": 27,
     "metadata": {},
     "output_type": "execute_result"
    }
   ],
   "source": [
    "y.tail(2)"
   ]
  },
  {
   "cell_type": "code",
   "execution_count": 28,
   "metadata": {},
   "outputs": [
    {
     "data": {
      "text/plain": [
       "(1620,)"
      ]
     },
     "execution_count": 28,
     "metadata": {},
     "output_type": "execute_result"
    }
   ],
   "source": [
    "y.shape"
   ]
  },
  {
   "cell_type": "code",
   "execution_count": 29,
   "metadata": {},
   "outputs": [
    {
     "data": {
      "text/plain": [
       "(405,)"
      ]
     },
     "execution_count": 29,
     "metadata": {},
     "output_type": "execute_result"
    }
   ],
   "source": [
    "y_test.shape"
   ]
  },
  {
   "cell_type": "markdown",
   "metadata": {},
   "source": [
    "### Preset the Stop Words"
   ]
  },
  {
   "cell_type": "code",
   "execution_count": 30,
   "metadata": {},
   "outputs": [],
   "source": [
    "# Exclude key words such as the subreddit topics from being used (eg. democrat, republican)\n",
    "\n",
    "stopwords = nltk.corpus.stopwords.words('english')\n",
    "stopwords.append('republican')\n",
    "stopwords.append('republicans')\n",
    "stopwords.append('democrats')\n",
    "stopwords.append('democrat')\n",
    "stopwords.append('trump')\n",
    "stopwords.append('biden')\n",
    "stopwords.append('bjoe')"
   ]
  },
  {
   "cell_type": "markdown",
   "metadata": {},
   "source": [
    "### <font color=red>Modeling using Logistic Regression Classifier</font>"
   ]
  },
  {
   "cell_type": "markdown",
   "metadata": {},
   "source": [
    "<font color=blue>Logistic regression models the probabilities for classification problems with two possible outcomes. The predictions of Logistic Regression are in the form of probabilities of an event occurring. Thus, the results of logistic regression range between 0-1. When selecting the model for the logistic regression analysis, another important consideration is the model fit. Adding independent variables to a logistic regression model will always increase the amount of variance. However, adding more and more variables to the model can result in overfitting, which reduces the generalizability of the model beyond the data on which the model is fit.</font>"
   ]
  },
  {
   "cell_type": "markdown",
   "metadata": {},
   "source": [
    "### Pipeline Creation for Logistic Regression"
   ]
  },
  {
   "cell_type": "code",
   "execution_count": 31,
   "metadata": {},
   "outputs": [],
   "source": [
    "pipe = Pipeline([\n",
    "    ('cvec', CountVectorizer()),\n",
    "    ('lr', LogisticRegression())\n",
    "])"
   ]
  },
  {
   "cell_type": "code",
   "execution_count": 32,
   "metadata": {},
   "outputs": [
    {
     "name": "stdout",
     "output_type": "stream",
     "text": [
      "Fitting 5 folds for each of 6400 candidates, totalling 32000 fits\n"
     ]
    },
    {
     "name": "stderr",
     "output_type": "stream",
     "text": [
      "[Parallel(n_jobs=-1)]: Using backend LokyBackend with 8 concurrent workers.\n",
      "[Parallel(n_jobs=-1)]: Done  34 tasks      | elapsed:    2.4s\n",
      "[Parallel(n_jobs=-1)]: Done 536 tasks      | elapsed:    6.0s\n",
      "[Parallel(n_jobs=-1)]: Done 1536 tasks      | elapsed:   16.3s\n",
      "[Parallel(n_jobs=-1)]: Done 2936 tasks      | elapsed:   30.9s\n",
      "[Parallel(n_jobs=-1)]: Done 4736 tasks      | elapsed:   50.6s\n",
      "[Parallel(n_jobs=-1)]: Done 6936 tasks      | elapsed:  1.2min\n",
      "[Parallel(n_jobs=-1)]: Done 9536 tasks      | elapsed:  1.8min\n",
      "[Parallel(n_jobs=-1)]: Done 12536 tasks      | elapsed:  2.3min\n",
      "[Parallel(n_jobs=-1)]: Done 15936 tasks      | elapsed:  3.0min\n",
      "[Parallel(n_jobs=-1)]: Done 19736 tasks      | elapsed:  3.7min\n",
      "[Parallel(n_jobs=-1)]: Done 23936 tasks      | elapsed:  4.6min\n",
      "[Parallel(n_jobs=-1)]: Done 28536 tasks      | elapsed:  5.4min\n",
      "[Parallel(n_jobs=-1)]: Done 32000 out of 32000 | elapsed:  6.0min finished\n"
     ]
    },
    {
     "data": {
      "text/plain": [
       "GridSearchCV(cv=5, error_score=nan,\n",
       "             estimator=Pipeline(memory=None,\n",
       "                                steps=[('cvec',\n",
       "                                        CountVectorizer(analyzer='word',\n",
       "                                                        binary=False,\n",
       "                                                        decode_error='strict',\n",
       "                                                        dtype=<class 'numpy.int64'>,\n",
       "                                                        encoding='utf-8',\n",
       "                                                        input='content',\n",
       "                                                        lowercase=True,\n",
       "                                                        max_df=1.0,\n",
       "                                                        max_features=None,\n",
       "                                                        min_df=1,\n",
       "                                                        ngram_range=(1, 1),\n",
       "                                                        preprocessor=None,\n",
       "                                                        stop_words=None,\n",
       "                                                        strip_accents=None,\n",
       "                                                        token_pattern='(?u)...\n",
       "       1.74752840e-01, 1.96304065e-01, 2.20513074e-01, 2.47707636e-01,\n",
       "       2.78255940e-01, 3.12571585e-01, 3.51119173e-01, 3.94420606e-01,\n",
       "       4.43062146e-01, 4.97702356e-01, 5.59081018e-01, 6.28029144e-01,\n",
       "       7.05480231e-01, 7.92482898e-01, 8.90215085e-01, 1.00000000e+00]),\n",
       "                         'lr__penalty': ['l1', 'l2'],\n",
       "                         'lr__solver': ['liblinear']},\n",
       "             pre_dispatch='2*n_jobs', refit=True, return_train_score=False,\n",
       "             scoring=None, verbose=1)"
      ]
     },
     "execution_count": 32,
     "metadata": {},
     "output_type": "execute_result"
    }
   ],
   "source": [
    "pipe_params = {\n",
    "    'cvec__max_features': [1000, 1500,2000,2500],\n",
    "    'cvec__min_df': [2, 3],\n",
    "    'cvec__max_df': [.9, .95],\n",
    "    'cvec__stop_words':[stopwords],\n",
    "    'cvec__ngram_range': [(1,1), (1,2)],\n",
    "    'lr__penalty':['l1','l2'],\n",
    "    'lr__solver':['liblinear'],\n",
    "    'lr__C':np.logspace(-5,0,100)\n",
    "}\n",
    "gs = GridSearchCV(pipe, param_grid=pipe_params, cv=5, verbose =1, n_jobs=-1)\n",
    "gs.fit(X_train, y_train)"
   ]
  },
  {
   "cell_type": "code",
   "execution_count": 33,
   "metadata": {},
   "outputs": [
    {
     "data": {
      "text/plain": [
       "0.8502057613168724"
      ]
     },
     "execution_count": 33,
     "metadata": {},
     "output_type": "execute_result"
    }
   ],
   "source": [
    "# Trining data without cross-validation\n",
    "\n",
    "gs.score(X_train, y_train)"
   ]
  },
  {
   "cell_type": "code",
   "execution_count": 34,
   "metadata": {
    "scrolled": true
   },
   "outputs": [
    {
     "data": {
      "text/plain": [
       "0.691358024691358"
      ]
     },
     "execution_count": 34,
     "metadata": {},
     "output_type": "execute_result"
    }
   ],
   "source": [
    "# Score it on the testing data\n",
    "gs.score(X_test, y_test)"
   ]
  },
  {
   "cell_type": "code",
   "execution_count": 35,
   "metadata": {},
   "outputs": [
    {
     "data": {
      "text/plain": [
       "0.6823045267489711"
      ]
     },
     "execution_count": 35,
     "metadata": {},
     "output_type": "execute_result"
    }
   ],
   "source": [
    "# best score on the training data which has undergone cross-validation\n",
    "gs.best_score_ "
   ]
  },
  {
   "cell_type": "code",
   "execution_count": 36,
   "metadata": {},
   "outputs": [
    {
     "data": {
      "text/plain": [
       "{'cvec__max_df': 0.9,\n",
       " 'cvec__max_features': 1500,\n",
       " 'cvec__min_df': 2,\n",
       " 'cvec__ngram_range': (1, 2),\n",
       " 'cvec__stop_words': ['i',\n",
       "  'me',\n",
       "  'my',\n",
       "  'myself',\n",
       "  'we',\n",
       "  'our',\n",
       "  'ours',\n",
       "  'ourselves',\n",
       "  'you',\n",
       "  \"you're\",\n",
       "  \"you've\",\n",
       "  \"you'll\",\n",
       "  \"you'd\",\n",
       "  'your',\n",
       "  'yours',\n",
       "  'yourself',\n",
       "  'yourselves',\n",
       "  'he',\n",
       "  'him',\n",
       "  'his',\n",
       "  'himself',\n",
       "  'she',\n",
       "  \"she's\",\n",
       "  'her',\n",
       "  'hers',\n",
       "  'herself',\n",
       "  'it',\n",
       "  \"it's\",\n",
       "  'its',\n",
       "  'itself',\n",
       "  'they',\n",
       "  'them',\n",
       "  'their',\n",
       "  'theirs',\n",
       "  'themselves',\n",
       "  'what',\n",
       "  'which',\n",
       "  'who',\n",
       "  'whom',\n",
       "  'this',\n",
       "  'that',\n",
       "  \"that'll\",\n",
       "  'these',\n",
       "  'those',\n",
       "  'am',\n",
       "  'is',\n",
       "  'are',\n",
       "  'was',\n",
       "  'were',\n",
       "  'be',\n",
       "  'been',\n",
       "  'being',\n",
       "  'have',\n",
       "  'has',\n",
       "  'had',\n",
       "  'having',\n",
       "  'do',\n",
       "  'does',\n",
       "  'did',\n",
       "  'doing',\n",
       "  'a',\n",
       "  'an',\n",
       "  'the',\n",
       "  'and',\n",
       "  'but',\n",
       "  'if',\n",
       "  'or',\n",
       "  'because',\n",
       "  'as',\n",
       "  'until',\n",
       "  'while',\n",
       "  'of',\n",
       "  'at',\n",
       "  'by',\n",
       "  'for',\n",
       "  'with',\n",
       "  'about',\n",
       "  'against',\n",
       "  'between',\n",
       "  'into',\n",
       "  'through',\n",
       "  'during',\n",
       "  'before',\n",
       "  'after',\n",
       "  'above',\n",
       "  'below',\n",
       "  'to',\n",
       "  'from',\n",
       "  'up',\n",
       "  'down',\n",
       "  'in',\n",
       "  'out',\n",
       "  'on',\n",
       "  'off',\n",
       "  'over',\n",
       "  'under',\n",
       "  'again',\n",
       "  'further',\n",
       "  'then',\n",
       "  'once',\n",
       "  'here',\n",
       "  'there',\n",
       "  'when',\n",
       "  'where',\n",
       "  'why',\n",
       "  'how',\n",
       "  'all',\n",
       "  'any',\n",
       "  'both',\n",
       "  'each',\n",
       "  'few',\n",
       "  'more',\n",
       "  'most',\n",
       "  'other',\n",
       "  'some',\n",
       "  'such',\n",
       "  'no',\n",
       "  'nor',\n",
       "  'not',\n",
       "  'only',\n",
       "  'own',\n",
       "  'same',\n",
       "  'so',\n",
       "  'than',\n",
       "  'too',\n",
       "  'very',\n",
       "  's',\n",
       "  't',\n",
       "  'can',\n",
       "  'will',\n",
       "  'just',\n",
       "  'don',\n",
       "  \"don't\",\n",
       "  'should',\n",
       "  \"should've\",\n",
       "  'now',\n",
       "  'd',\n",
       "  'll',\n",
       "  'm',\n",
       "  'o',\n",
       "  're',\n",
       "  've',\n",
       "  'y',\n",
       "  'ain',\n",
       "  'aren',\n",
       "  \"aren't\",\n",
       "  'couldn',\n",
       "  \"couldn't\",\n",
       "  'didn',\n",
       "  \"didn't\",\n",
       "  'doesn',\n",
       "  \"doesn't\",\n",
       "  'hadn',\n",
       "  \"hadn't\",\n",
       "  'hasn',\n",
       "  \"hasn't\",\n",
       "  'haven',\n",
       "  \"haven't\",\n",
       "  'isn',\n",
       "  \"isn't\",\n",
       "  'ma',\n",
       "  'mightn',\n",
       "  \"mightn't\",\n",
       "  'mustn',\n",
       "  \"mustn't\",\n",
       "  'needn',\n",
       "  \"needn't\",\n",
       "  'shan',\n",
       "  \"shan't\",\n",
       "  'shouldn',\n",
       "  \"shouldn't\",\n",
       "  'wasn',\n",
       "  \"wasn't\",\n",
       "  'weren',\n",
       "  \"weren't\",\n",
       "  'won',\n",
       "  \"won't\",\n",
       "  'wouldn',\n",
       "  \"wouldn't\",\n",
       "  'republican',\n",
       "  'republicans',\n",
       "  'democrats',\n",
       "  'democrat',\n",
       "  'trump',\n",
       "  'biden',\n",
       "  'bjoe'],\n",
       " 'lr__C': 0.09770099572992247,\n",
       " 'lr__penalty': 'l2',\n",
       " 'lr__solver': 'liblinear'}"
      ]
     },
     "execution_count": 36,
     "metadata": {},
     "output_type": "execute_result"
    }
   ],
   "source": [
    "# best parameters on the training data\n",
    "\n",
    "gs.best_params_"
   ]
  },
  {
   "cell_type": "code",
   "execution_count": 37,
   "metadata": {
    "scrolled": false
   },
   "outputs": [
    {
     "data": {
      "text/plain": [
       "[('cvec',\n",
       "  CountVectorizer(analyzer='word', binary=False, decode_error='strict',\n",
       "                  dtype=<class 'numpy.int64'>, encoding='utf-8', input='content',\n",
       "                  lowercase=True, max_df=0.9, max_features=1500, min_df=2,\n",
       "                  ngram_range=(1, 2), preprocessor=None,\n",
       "                  stop_words=['i', 'me', 'my', 'myself', 'we', 'our', 'ours',\n",
       "                              'ourselves', 'you', \"you're\", \"you've\", \"you'll\",\n",
       "                              \"you'd\", 'your', 'yours', 'yourself', 'yourselves',\n",
       "                              'he', 'him', 'his', 'himself', 'she', \"she's\",\n",
       "                              'her', 'hers', 'herself', 'it', \"it's\", 'its',\n",
       "                              'itself', ...],\n",
       "                  strip_accents=None, token_pattern='(?u)\\\\b\\\\w\\\\w+\\\\b',\n",
       "                  tokenizer=None, vocabulary=None)),\n",
       " ('lr',\n",
       "  LogisticRegression(C=0.09770099572992247, class_weight=None, dual=False,\n",
       "                     fit_intercept=True, intercept_scaling=1, l1_ratio=None,\n",
       "                     max_iter=100, multi_class='auto', n_jobs=None, penalty='l2',\n",
       "                     random_state=None, solver='liblinear', tol=0.0001, verbose=0,\n",
       "                     warm_start=False))]"
      ]
     },
     "execution_count": 37,
     "metadata": {},
     "output_type": "execute_result"
    }
   ],
   "source": [
    "# Display the optimal parameters used for this particular model\n",
    "\n",
    "gs.best_estimator_.steps"
   ]
  },
  {
   "cell_type": "markdown",
   "metadata": {},
   "source": [
    "### <font color=red>Modeling using Naive Bayes Classifier</font>"
   ]
  },
  {
   "cell_type": "markdown",
   "metadata": {},
   "source": [
    "<font color=blue>Naive Bayes is a classification algorithm for binary (two-class) and multiclass classification problems. It  works on assumptions of independence in the model, rather than the particular distribution of each feature. A Naive Bayes model assumes that each of the features it uses are conditionally independent of one another given some class. Multinomial Naive Bayes classifier is a specific instance of a Naive Bayes classifier which uses a multinomial distribution for each of the features. Weakness of using Naive Bayes is that the word features are rarely independent of each other in a real language context. </font>"
   ]
  },
  {
   "cell_type": "markdown",
   "metadata": {},
   "source": [
    "### Pipeline Creation for Naive Bayes"
   ]
  },
  {
   "cell_type": "code",
   "execution_count": 38,
   "metadata": {},
   "outputs": [],
   "source": [
    "pipe2 = Pipeline([\n",
    "    ('cvec', CountVectorizer()),\n",
    "    ('nb', MultinomialNB())\n",
    "])"
   ]
  },
  {
   "cell_type": "code",
   "execution_count": 39,
   "metadata": {},
   "outputs": [
    {
     "name": "stdout",
     "output_type": "stream",
     "text": [
      "Fitting 5 folds for each of 32 candidates, totalling 160 fits\n"
     ]
    },
    {
     "name": "stderr",
     "output_type": "stream",
     "text": [
      "[Parallel(n_jobs=-1)]: Using backend LokyBackend with 8 concurrent workers.\n",
      "[Parallel(n_jobs=-1)]: Done  52 tasks      | elapsed:    0.6s\n",
      "[Parallel(n_jobs=-1)]: Done 160 out of 160 | elapsed:    1.7s finished\n"
     ]
    },
    {
     "data": {
      "text/plain": [
       "GridSearchCV(cv=5, error_score=nan,\n",
       "             estimator=Pipeline(memory=None,\n",
       "                                steps=[('cvec',\n",
       "                                        CountVectorizer(analyzer='word',\n",
       "                                                        binary=False,\n",
       "                                                        decode_error='strict',\n",
       "                                                        dtype=<class 'numpy.int64'>,\n",
       "                                                        encoding='utf-8',\n",
       "                                                        input='content',\n",
       "                                                        lowercase=True,\n",
       "                                                        max_df=1.0,\n",
       "                                                        max_features=None,\n",
       "                                                        min_df=1,\n",
       "                                                        ngram_range=(1, 1),\n",
       "                                                        preprocessor=None,\n",
       "                                                        stop_words=None,\n",
       "                                                        strip_accents=None,\n",
       "                                                        token_pattern='(?u)...\n",
       "                         'cvec__ngram_range': [(1, 1), (1, 2)],\n",
       "                         'cvec__stop_words': [['i', 'me', 'my', 'myself', 'we',\n",
       "                                               'our', 'ours', 'ourselves',\n",
       "                                               'you', \"you're\", \"you've\",\n",
       "                                               \"you'll\", \"you'd\", 'your',\n",
       "                                               'yours', 'yourself',\n",
       "                                               'yourselves', 'he', 'him', 'his',\n",
       "                                               'himself', 'she', \"she's\", 'her',\n",
       "                                               'hers', 'herself', 'it', \"it's\",\n",
       "                                               'its', 'itself', ...]]},\n",
       "             pre_dispatch='2*n_jobs', refit=True, return_train_score=False,\n",
       "             scoring=None, verbose=1)"
      ]
     },
     "execution_count": 39,
     "metadata": {},
     "output_type": "execute_result"
    }
   ],
   "source": [
    "pipe_params2 = {\n",
    "    'cvec__max_features': [1000, 1500,2000,2500],\n",
    "    'cvec__min_df': [2, 3],\n",
    "    'cvec__max_df': [.9, .95],\n",
    "    'cvec__stop_words':[stopwords],\n",
    "    'cvec__ngram_range': [(1,1), (1,2)]\n",
    "}\n",
    "gs2 = GridSearchCV(pipe2, param_grid=pipe_params2, cv=5, verbose =1, n_jobs=-1)\n",
    "gs2.fit(X_train, y_train)"
   ]
  },
  {
   "cell_type": "code",
   "execution_count": 40,
   "metadata": {},
   "outputs": [
    {
     "data": {
      "text/plain": [
       "0.8897119341563786"
      ]
     },
     "execution_count": 40,
     "metadata": {},
     "output_type": "execute_result"
    }
   ],
   "source": [
    "gs2.score(X_train, y_train)"
   ]
  },
  {
   "cell_type": "code",
   "execution_count": 41,
   "metadata": {},
   "outputs": [
    {
     "data": {
      "text/plain": [
       "0.7061728395061728"
      ]
     },
     "execution_count": 41,
     "metadata": {},
     "output_type": "execute_result"
    }
   ],
   "source": [
    "# Test score using the best parameters\n",
    "gs2.score(X_test, y_test) "
   ]
  },
  {
   "cell_type": "code",
   "execution_count": 42,
   "metadata": {},
   "outputs": [
    {
     "data": {
      "text/plain": [
       "0.6790123456790124"
      ]
     },
     "execution_count": 42,
     "metadata": {},
     "output_type": "execute_result"
    }
   ],
   "source": [
    "# The best training score after going through validation\n",
    "gs2.best_score_ "
   ]
  },
  {
   "cell_type": "code",
   "execution_count": 43,
   "metadata": {},
   "outputs": [
    {
     "data": {
      "text/plain": [
       "{'cvec__max_df': 0.9,\n",
       " 'cvec__max_features': 2000,\n",
       " 'cvec__min_df': 2,\n",
       " 'cvec__ngram_range': (1, 2),\n",
       " 'cvec__stop_words': ['i',\n",
       "  'me',\n",
       "  'my',\n",
       "  'myself',\n",
       "  'we',\n",
       "  'our',\n",
       "  'ours',\n",
       "  'ourselves',\n",
       "  'you',\n",
       "  \"you're\",\n",
       "  \"you've\",\n",
       "  \"you'll\",\n",
       "  \"you'd\",\n",
       "  'your',\n",
       "  'yours',\n",
       "  'yourself',\n",
       "  'yourselves',\n",
       "  'he',\n",
       "  'him',\n",
       "  'his',\n",
       "  'himself',\n",
       "  'she',\n",
       "  \"she's\",\n",
       "  'her',\n",
       "  'hers',\n",
       "  'herself',\n",
       "  'it',\n",
       "  \"it's\",\n",
       "  'its',\n",
       "  'itself',\n",
       "  'they',\n",
       "  'them',\n",
       "  'their',\n",
       "  'theirs',\n",
       "  'themselves',\n",
       "  'what',\n",
       "  'which',\n",
       "  'who',\n",
       "  'whom',\n",
       "  'this',\n",
       "  'that',\n",
       "  \"that'll\",\n",
       "  'these',\n",
       "  'those',\n",
       "  'am',\n",
       "  'is',\n",
       "  'are',\n",
       "  'was',\n",
       "  'were',\n",
       "  'be',\n",
       "  'been',\n",
       "  'being',\n",
       "  'have',\n",
       "  'has',\n",
       "  'had',\n",
       "  'having',\n",
       "  'do',\n",
       "  'does',\n",
       "  'did',\n",
       "  'doing',\n",
       "  'a',\n",
       "  'an',\n",
       "  'the',\n",
       "  'and',\n",
       "  'but',\n",
       "  'if',\n",
       "  'or',\n",
       "  'because',\n",
       "  'as',\n",
       "  'until',\n",
       "  'while',\n",
       "  'of',\n",
       "  'at',\n",
       "  'by',\n",
       "  'for',\n",
       "  'with',\n",
       "  'about',\n",
       "  'against',\n",
       "  'between',\n",
       "  'into',\n",
       "  'through',\n",
       "  'during',\n",
       "  'before',\n",
       "  'after',\n",
       "  'above',\n",
       "  'below',\n",
       "  'to',\n",
       "  'from',\n",
       "  'up',\n",
       "  'down',\n",
       "  'in',\n",
       "  'out',\n",
       "  'on',\n",
       "  'off',\n",
       "  'over',\n",
       "  'under',\n",
       "  'again',\n",
       "  'further',\n",
       "  'then',\n",
       "  'once',\n",
       "  'here',\n",
       "  'there',\n",
       "  'when',\n",
       "  'where',\n",
       "  'why',\n",
       "  'how',\n",
       "  'all',\n",
       "  'any',\n",
       "  'both',\n",
       "  'each',\n",
       "  'few',\n",
       "  'more',\n",
       "  'most',\n",
       "  'other',\n",
       "  'some',\n",
       "  'such',\n",
       "  'no',\n",
       "  'nor',\n",
       "  'not',\n",
       "  'only',\n",
       "  'own',\n",
       "  'same',\n",
       "  'so',\n",
       "  'than',\n",
       "  'too',\n",
       "  'very',\n",
       "  's',\n",
       "  't',\n",
       "  'can',\n",
       "  'will',\n",
       "  'just',\n",
       "  'don',\n",
       "  \"don't\",\n",
       "  'should',\n",
       "  \"should've\",\n",
       "  'now',\n",
       "  'd',\n",
       "  'll',\n",
       "  'm',\n",
       "  'o',\n",
       "  're',\n",
       "  've',\n",
       "  'y',\n",
       "  'ain',\n",
       "  'aren',\n",
       "  \"aren't\",\n",
       "  'couldn',\n",
       "  \"couldn't\",\n",
       "  'didn',\n",
       "  \"didn't\",\n",
       "  'doesn',\n",
       "  \"doesn't\",\n",
       "  'hadn',\n",
       "  \"hadn't\",\n",
       "  'hasn',\n",
       "  \"hasn't\",\n",
       "  'haven',\n",
       "  \"haven't\",\n",
       "  'isn',\n",
       "  \"isn't\",\n",
       "  'ma',\n",
       "  'mightn',\n",
       "  \"mightn't\",\n",
       "  'mustn',\n",
       "  \"mustn't\",\n",
       "  'needn',\n",
       "  \"needn't\",\n",
       "  'shan',\n",
       "  \"shan't\",\n",
       "  'shouldn',\n",
       "  \"shouldn't\",\n",
       "  'wasn',\n",
       "  \"wasn't\",\n",
       "  'weren',\n",
       "  \"weren't\",\n",
       "  'won',\n",
       "  \"won't\",\n",
       "  'wouldn',\n",
       "  \"wouldn't\",\n",
       "  'republican',\n",
       "  'republicans',\n",
       "  'democrats',\n",
       "  'democrat',\n",
       "  'trump',\n",
       "  'biden',\n",
       "  'bjoe']}"
      ]
     },
     "execution_count": 43,
     "metadata": {},
     "output_type": "execute_result"
    }
   ],
   "source": [
    "# Best parameters used to get optimal scores\n",
    "gs2.best_params_"
   ]
  },
  {
   "cell_type": "code",
   "execution_count": 44,
   "metadata": {},
   "outputs": [
    {
     "data": {
      "text/plain": [
       "[('cvec',\n",
       "  CountVectorizer(analyzer='word', binary=False, decode_error='strict',\n",
       "                  dtype=<class 'numpy.int64'>, encoding='utf-8', input='content',\n",
       "                  lowercase=True, max_df=0.9, max_features=2000, min_df=2,\n",
       "                  ngram_range=(1, 2), preprocessor=None,\n",
       "                  stop_words=['i', 'me', 'my', 'myself', 'we', 'our', 'ours',\n",
       "                              'ourselves', 'you', \"you're\", \"you've\", \"you'll\",\n",
       "                              \"you'd\", 'your', 'yours', 'yourself', 'yourselves',\n",
       "                              'he', 'him', 'his', 'himself', 'she', \"she's\",\n",
       "                              'her', 'hers', 'herself', 'it', \"it's\", 'its',\n",
       "                              'itself', ...],\n",
       "                  strip_accents=None, token_pattern='(?u)\\\\b\\\\w\\\\w+\\\\b',\n",
       "                  tokenizer=None, vocabulary=None)),\n",
       " ('nb', MultinomialNB(alpha=1.0, class_prior=None, fit_prior=True))]"
      ]
     },
     "execution_count": 44,
     "metadata": {},
     "output_type": "execute_result"
    }
   ],
   "source": [
    "gs2.best_estimator_.steps"
   ]
  },
  {
   "cell_type": "markdown",
   "metadata": {},
   "source": [
    "## <font color=red>Modeling using the Tfid Vectorizer Method</font>"
   ]
  },
  {
   "cell_type": "markdown",
   "metadata": {},
   "source": [
    "<font color=blue>Next, a different vectorizer (Tfid) will repeated using the same models for evaluation purpose where:\n",
    "      \n",
    "TF Score (Term Frequency) - Considers the number of times a term appears in a document in proportion to the number of terms in the document.    \n",
    "    \n",
    "IDF Score (Inverse Document Frequency) - Uses the frequency of a term in the collection for weighting and ranking.\n",
    "    </font>"
   ]
  },
  {
   "cell_type": "markdown",
   "metadata": {},
   "source": [
    "### <font color=red>Tfid Modeling using Logistic Regression Classifier</font>"
   ]
  },
  {
   "cell_type": "markdown",
   "metadata": {},
   "source": [
    "### Pipeline Creation for Logistic Regression"
   ]
  },
  {
   "cell_type": "code",
   "execution_count": 45,
   "metadata": {},
   "outputs": [],
   "source": [
    "pipe3 = Pipeline([\n",
    "    ('tvec', TfidfVectorizer()),\n",
    "    ('lr2', LogisticRegression())\n",
    "])"
   ]
  },
  {
   "cell_type": "code",
   "execution_count": 46,
   "metadata": {},
   "outputs": [
    {
     "name": "stderr",
     "output_type": "stream",
     "text": [
      "[Parallel(n_jobs=-1)]: Using backend LokyBackend with 8 concurrent workers.\n"
     ]
    },
    {
     "name": "stdout",
     "output_type": "stream",
     "text": [
      "Fitting 5 folds for each of 6400 candidates, totalling 32000 fits\n"
     ]
    },
    {
     "name": "stderr",
     "output_type": "stream",
     "text": [
      "[Parallel(n_jobs=-1)]: Done  56 tasks      | elapsed:    0.8s\n",
      "[Parallel(n_jobs=-1)]: Done 656 tasks      | elapsed:    7.2s\n",
      "[Parallel(n_jobs=-1)]: Done 1656 tasks      | elapsed:   18.4s\n",
      "[Parallel(n_jobs=-1)]: Done 3056 tasks      | elapsed:   35.0s\n",
      "[Parallel(n_jobs=-1)]: Done 4856 tasks      | elapsed:   54.8s\n",
      "[Parallel(n_jobs=-1)]: Done 7056 tasks      | elapsed:  1.3min\n",
      "[Parallel(n_jobs=-1)]: Done 9656 tasks      | elapsed:  1.9min\n",
      "[Parallel(n_jobs=-1)]: Done 12656 tasks      | elapsed:  2.4min\n",
      "[Parallel(n_jobs=-1)]: Done 16056 tasks      | elapsed:  3.1min\n",
      "[Parallel(n_jobs=-1)]: Done 19856 tasks      | elapsed:  3.8min\n",
      "[Parallel(n_jobs=-1)]: Done 24056 tasks      | elapsed:  4.6min\n",
      "[Parallel(n_jobs=-1)]: Done 28656 tasks      | elapsed:  5.5min\n",
      "[Parallel(n_jobs=-1)]: Done 32000 out of 32000 | elapsed:  6.2min finished\n"
     ]
    },
    {
     "data": {
      "text/plain": [
       "GridSearchCV(cv=5, error_score=nan,\n",
       "             estimator=Pipeline(memory=None,\n",
       "                                steps=[('tvec',\n",
       "                                        TfidfVectorizer(analyzer='word',\n",
       "                                                        binary=False,\n",
       "                                                        decode_error='strict',\n",
       "                                                        dtype=<class 'numpy.float64'>,\n",
       "                                                        encoding='utf-8',\n",
       "                                                        input='content',\n",
       "                                                        lowercase=True,\n",
       "                                                        max_df=1.0,\n",
       "                                                        max_features=None,\n",
       "                                                        min_df=1,\n",
       "                                                        ngram_range=(1, 1),\n",
       "                                                        norm='l2',\n",
       "                                                        preprocessor=None,\n",
       "                                                        smooth_idf=True,\n",
       "                                                        stop_words=None,\n",
       "                                                        strip_acce...\n",
       "                         'tvec__ngram_range': [(1, 1), (1, 2)],\n",
       "                         'tvec__stop_words': [['i', 'me', 'my', 'myself', 'we',\n",
       "                                               'our', 'ours', 'ourselves',\n",
       "                                               'you', \"you're\", \"you've\",\n",
       "                                               \"you'll\", \"you'd\", 'your',\n",
       "                                               'yours', 'yourself',\n",
       "                                               'yourselves', 'he', 'him', 'his',\n",
       "                                               'himself', 'she', \"she's\", 'her',\n",
       "                                               'hers', 'herself', 'it', \"it's\",\n",
       "                                               'its', 'itself', ...]]},\n",
       "             pre_dispatch='2*n_jobs', refit=True, return_train_score=False,\n",
       "             scoring=None, verbose=1)"
      ]
     },
     "execution_count": 46,
     "metadata": {},
     "output_type": "execute_result"
    }
   ],
   "source": [
    "pipe_params3 = {\n",
    "    'tvec__max_features': [1000, 1500,2000,2500],\n",
    "    'tvec__min_df': [2, 3],\n",
    "    'tvec__max_df': [.9, .95],\n",
    "    'tvec__stop_words':[stopwords],\n",
    "    'tvec__ngram_range': [(1,1), (1,2)],\n",
    "    'lr2__penalty':['l1','l2'],\n",
    "    'lr2__solver':['liblinear'],\n",
    "    'lr2__C':np.logspace(-5,0,100)\n",
    "}\n",
    "gs3 = GridSearchCV(pipe3, param_grid=pipe_params3, cv=5, verbose =1, n_jobs=-1)\n",
    "gs3.fit(X_train, y_train)"
   ]
  },
  {
   "cell_type": "code",
   "execution_count": 47,
   "metadata": {},
   "outputs": [
    {
     "data": {
      "text/plain": [
       "0.9135802469135802"
      ]
     },
     "execution_count": 47,
     "metadata": {},
     "output_type": "execute_result"
    }
   ],
   "source": [
    "gs3.score(X_train, y_train)"
   ]
  },
  {
   "cell_type": "code",
   "execution_count": 48,
   "metadata": {},
   "outputs": [
    {
     "data": {
      "text/plain": [
       "0.7086419753086419"
      ]
     },
     "execution_count": 48,
     "metadata": {},
     "output_type": "execute_result"
    }
   ],
   "source": [
    "gs3.score(X_test, y_test)"
   ]
  },
  {
   "cell_type": "code",
   "execution_count": 49,
   "metadata": {},
   "outputs": [
    {
     "data": {
      "text/plain": [
       "0.6806584362139918"
      ]
     },
     "execution_count": 49,
     "metadata": {},
     "output_type": "execute_result"
    }
   ],
   "source": [
    "gs3.best_score_ "
   ]
  },
  {
   "cell_type": "code",
   "execution_count": 50,
   "metadata": {},
   "outputs": [
    {
     "data": {
      "text/plain": [
       "{'lr2__C': 1.0,\n",
       " 'lr2__penalty': 'l2',\n",
       " 'lr2__solver': 'liblinear',\n",
       " 'tvec__max_df': 0.9,\n",
       " 'tvec__max_features': 2000,\n",
       " 'tvec__min_df': 2,\n",
       " 'tvec__ngram_range': (1, 2),\n",
       " 'tvec__stop_words': ['i',\n",
       "  'me',\n",
       "  'my',\n",
       "  'myself',\n",
       "  'we',\n",
       "  'our',\n",
       "  'ours',\n",
       "  'ourselves',\n",
       "  'you',\n",
       "  \"you're\",\n",
       "  \"you've\",\n",
       "  \"you'll\",\n",
       "  \"you'd\",\n",
       "  'your',\n",
       "  'yours',\n",
       "  'yourself',\n",
       "  'yourselves',\n",
       "  'he',\n",
       "  'him',\n",
       "  'his',\n",
       "  'himself',\n",
       "  'she',\n",
       "  \"she's\",\n",
       "  'her',\n",
       "  'hers',\n",
       "  'herself',\n",
       "  'it',\n",
       "  \"it's\",\n",
       "  'its',\n",
       "  'itself',\n",
       "  'they',\n",
       "  'them',\n",
       "  'their',\n",
       "  'theirs',\n",
       "  'themselves',\n",
       "  'what',\n",
       "  'which',\n",
       "  'who',\n",
       "  'whom',\n",
       "  'this',\n",
       "  'that',\n",
       "  \"that'll\",\n",
       "  'these',\n",
       "  'those',\n",
       "  'am',\n",
       "  'is',\n",
       "  'are',\n",
       "  'was',\n",
       "  'were',\n",
       "  'be',\n",
       "  'been',\n",
       "  'being',\n",
       "  'have',\n",
       "  'has',\n",
       "  'had',\n",
       "  'having',\n",
       "  'do',\n",
       "  'does',\n",
       "  'did',\n",
       "  'doing',\n",
       "  'a',\n",
       "  'an',\n",
       "  'the',\n",
       "  'and',\n",
       "  'but',\n",
       "  'if',\n",
       "  'or',\n",
       "  'because',\n",
       "  'as',\n",
       "  'until',\n",
       "  'while',\n",
       "  'of',\n",
       "  'at',\n",
       "  'by',\n",
       "  'for',\n",
       "  'with',\n",
       "  'about',\n",
       "  'against',\n",
       "  'between',\n",
       "  'into',\n",
       "  'through',\n",
       "  'during',\n",
       "  'before',\n",
       "  'after',\n",
       "  'above',\n",
       "  'below',\n",
       "  'to',\n",
       "  'from',\n",
       "  'up',\n",
       "  'down',\n",
       "  'in',\n",
       "  'out',\n",
       "  'on',\n",
       "  'off',\n",
       "  'over',\n",
       "  'under',\n",
       "  'again',\n",
       "  'further',\n",
       "  'then',\n",
       "  'once',\n",
       "  'here',\n",
       "  'there',\n",
       "  'when',\n",
       "  'where',\n",
       "  'why',\n",
       "  'how',\n",
       "  'all',\n",
       "  'any',\n",
       "  'both',\n",
       "  'each',\n",
       "  'few',\n",
       "  'more',\n",
       "  'most',\n",
       "  'other',\n",
       "  'some',\n",
       "  'such',\n",
       "  'no',\n",
       "  'nor',\n",
       "  'not',\n",
       "  'only',\n",
       "  'own',\n",
       "  'same',\n",
       "  'so',\n",
       "  'than',\n",
       "  'too',\n",
       "  'very',\n",
       "  's',\n",
       "  't',\n",
       "  'can',\n",
       "  'will',\n",
       "  'just',\n",
       "  'don',\n",
       "  \"don't\",\n",
       "  'should',\n",
       "  \"should've\",\n",
       "  'now',\n",
       "  'd',\n",
       "  'll',\n",
       "  'm',\n",
       "  'o',\n",
       "  're',\n",
       "  've',\n",
       "  'y',\n",
       "  'ain',\n",
       "  'aren',\n",
       "  \"aren't\",\n",
       "  'couldn',\n",
       "  \"couldn't\",\n",
       "  'didn',\n",
       "  \"didn't\",\n",
       "  'doesn',\n",
       "  \"doesn't\",\n",
       "  'hadn',\n",
       "  \"hadn't\",\n",
       "  'hasn',\n",
       "  \"hasn't\",\n",
       "  'haven',\n",
       "  \"haven't\",\n",
       "  'isn',\n",
       "  \"isn't\",\n",
       "  'ma',\n",
       "  'mightn',\n",
       "  \"mightn't\",\n",
       "  'mustn',\n",
       "  \"mustn't\",\n",
       "  'needn',\n",
       "  \"needn't\",\n",
       "  'shan',\n",
       "  \"shan't\",\n",
       "  'shouldn',\n",
       "  \"shouldn't\",\n",
       "  'wasn',\n",
       "  \"wasn't\",\n",
       "  'weren',\n",
       "  \"weren't\",\n",
       "  'won',\n",
       "  \"won't\",\n",
       "  'wouldn',\n",
       "  \"wouldn't\",\n",
       "  'republican',\n",
       "  'republicans',\n",
       "  'democrats',\n",
       "  'democrat',\n",
       "  'trump',\n",
       "  'biden',\n",
       "  'bjoe']}"
      ]
     },
     "execution_count": 50,
     "metadata": {},
     "output_type": "execute_result"
    }
   ],
   "source": [
    "gs3.best_params_"
   ]
  },
  {
   "cell_type": "code",
   "execution_count": 51,
   "metadata": {},
   "outputs": [
    {
     "data": {
      "text/plain": [
       "[('tvec',\n",
       "  TfidfVectorizer(analyzer='word', binary=False, decode_error='strict',\n",
       "                  dtype=<class 'numpy.float64'>, encoding='utf-8',\n",
       "                  input='content', lowercase=True, max_df=0.9, max_features=2000,\n",
       "                  min_df=2, ngram_range=(1, 2), norm='l2', preprocessor=None,\n",
       "                  smooth_idf=True,\n",
       "                  stop_words=['i', 'me', 'my', 'myself', 'we', 'our', 'ours',\n",
       "                              'ourselves', 'you', \"you're\", \"you've\", \"you'll\",\n",
       "                              \"you'd\", 'your', 'yours', 'yourself', 'yourselves',\n",
       "                              'he', 'him', 'his', 'himself', 'she', \"she's\",\n",
       "                              'her', 'hers', 'herself', 'it', \"it's\", 'its',\n",
       "                              'itself', ...],\n",
       "                  strip_accents=None, sublinear_tf=False,\n",
       "                  token_pattern='(?u)\\\\b\\\\w\\\\w+\\\\b', tokenizer=None, use_idf=True,\n",
       "                  vocabulary=None)),\n",
       " ('lr2',\n",
       "  LogisticRegression(C=1.0, class_weight=None, dual=False, fit_intercept=True,\n",
       "                     intercept_scaling=1, l1_ratio=None, max_iter=100,\n",
       "                     multi_class='auto', n_jobs=None, penalty='l2',\n",
       "                     random_state=None, solver='liblinear', tol=0.0001, verbose=0,\n",
       "                     warm_start=False))]"
      ]
     },
     "execution_count": 51,
     "metadata": {},
     "output_type": "execute_result"
    }
   ],
   "source": [
    "gs3.best_estimator_.steps"
   ]
  },
  {
   "cell_type": "markdown",
   "metadata": {},
   "source": [
    "### <font color=red>Tfid Modeling using Naive Bayes Classifier</font>"
   ]
  },
  {
   "cell_type": "markdown",
   "metadata": {},
   "source": [
    "### Pipeline Creation for Naive Bayes"
   ]
  },
  {
   "cell_type": "code",
   "execution_count": 52,
   "metadata": {},
   "outputs": [],
   "source": [
    "pipe4 = Pipeline([\n",
    "    ('tvec', TfidfVectorizer()),\n",
    "    ('nb', MultinomialNB())\n",
    "])"
   ]
  },
  {
   "cell_type": "code",
   "execution_count": 53,
   "metadata": {},
   "outputs": [
    {
     "name": "stdout",
     "output_type": "stream",
     "text": [
      "Fitting 5 folds for each of 32 candidates, totalling 160 fits\n"
     ]
    },
    {
     "name": "stderr",
     "output_type": "stream",
     "text": [
      "[Parallel(n_jobs=-1)]: Using backend LokyBackend with 8 concurrent workers.\n",
      "[Parallel(n_jobs=-1)]: Done  56 tasks      | elapsed:    0.7s\n",
      "[Parallel(n_jobs=-1)]: Done 160 out of 160 | elapsed:    1.8s finished\n"
     ]
    },
    {
     "data": {
      "text/plain": [
       "GridSearchCV(cv=5, error_score=nan,\n",
       "             estimator=Pipeline(memory=None,\n",
       "                                steps=[('tvec',\n",
       "                                        TfidfVectorizer(analyzer='word',\n",
       "                                                        binary=False,\n",
       "                                                        decode_error='strict',\n",
       "                                                        dtype=<class 'numpy.float64'>,\n",
       "                                                        encoding='utf-8',\n",
       "                                                        input='content',\n",
       "                                                        lowercase=True,\n",
       "                                                        max_df=1.0,\n",
       "                                                        max_features=None,\n",
       "                                                        min_df=1,\n",
       "                                                        ngram_range=(1, 1),\n",
       "                                                        norm='l2',\n",
       "                                                        preprocessor=None,\n",
       "                                                        smooth_idf=True,\n",
       "                                                        stop_words=None,\n",
       "                                                        strip_acce...\n",
       "                         'tvec__ngram_range': [(1, 1), (1, 2)],\n",
       "                         'tvec__stop_words': [['i', 'me', 'my', 'myself', 'we',\n",
       "                                               'our', 'ours', 'ourselves',\n",
       "                                               'you', \"you're\", \"you've\",\n",
       "                                               \"you'll\", \"you'd\", 'your',\n",
       "                                               'yours', 'yourself',\n",
       "                                               'yourselves', 'he', 'him', 'his',\n",
       "                                               'himself', 'she', \"she's\", 'her',\n",
       "                                               'hers', 'herself', 'it', \"it's\",\n",
       "                                               'its', 'itself', ...]]},\n",
       "             pre_dispatch='2*n_jobs', refit=True, return_train_score=False,\n",
       "             scoring=None, verbose=1)"
      ]
     },
     "execution_count": 53,
     "metadata": {},
     "output_type": "execute_result"
    }
   ],
   "source": [
    "pipe_params4 = {\n",
    "    'tvec__max_features': [1000, 1500,2000,2500],\n",
    "    'tvec__min_df': [2, 3],\n",
    "    'tvec__max_df': [.9, .95],\n",
    "    'tvec__stop_words':[stopwords],\n",
    "    'tvec__ngram_range': [(1,1), (1,2)]\n",
    "}\n",
    "gs4 = GridSearchCV(pipe4, param_grid=pipe_params4, cv=5, verbose =1, n_jobs=-1)\n",
    "gs4.fit(X_train, y_train)"
   ]
  },
  {
   "cell_type": "code",
   "execution_count": 54,
   "metadata": {},
   "outputs": [
    {
     "data": {
      "text/plain": [
       "0.9004115226337449"
      ]
     },
     "execution_count": 54,
     "metadata": {},
     "output_type": "execute_result"
    }
   ],
   "source": [
    "gs4.score(X_train, y_train)"
   ]
  },
  {
   "cell_type": "code",
   "execution_count": 55,
   "metadata": {},
   "outputs": [
    {
     "data": {
      "text/plain": [
       "0.7037037037037037"
      ]
     },
     "execution_count": 55,
     "metadata": {},
     "output_type": "execute_result"
    }
   ],
   "source": [
    "gs4.score(X_test, y_test)"
   ]
  },
  {
   "cell_type": "code",
   "execution_count": 56,
   "metadata": {},
   "outputs": [
    {
     "data": {
      "text/plain": [
       "0.6823045267489711"
      ]
     },
     "execution_count": 56,
     "metadata": {},
     "output_type": "execute_result"
    }
   ],
   "source": [
    "gs4.best_score_ "
   ]
  },
  {
   "cell_type": "code",
   "execution_count": 57,
   "metadata": {},
   "outputs": [
    {
     "data": {
      "text/plain": [
       "{'tvec__max_df': 0.9,\n",
       " 'tvec__max_features': 2000,\n",
       " 'tvec__min_df': 2,\n",
       " 'tvec__ngram_range': (1, 2),\n",
       " 'tvec__stop_words': ['i',\n",
       "  'me',\n",
       "  'my',\n",
       "  'myself',\n",
       "  'we',\n",
       "  'our',\n",
       "  'ours',\n",
       "  'ourselves',\n",
       "  'you',\n",
       "  \"you're\",\n",
       "  \"you've\",\n",
       "  \"you'll\",\n",
       "  \"you'd\",\n",
       "  'your',\n",
       "  'yours',\n",
       "  'yourself',\n",
       "  'yourselves',\n",
       "  'he',\n",
       "  'him',\n",
       "  'his',\n",
       "  'himself',\n",
       "  'she',\n",
       "  \"she's\",\n",
       "  'her',\n",
       "  'hers',\n",
       "  'herself',\n",
       "  'it',\n",
       "  \"it's\",\n",
       "  'its',\n",
       "  'itself',\n",
       "  'they',\n",
       "  'them',\n",
       "  'their',\n",
       "  'theirs',\n",
       "  'themselves',\n",
       "  'what',\n",
       "  'which',\n",
       "  'who',\n",
       "  'whom',\n",
       "  'this',\n",
       "  'that',\n",
       "  \"that'll\",\n",
       "  'these',\n",
       "  'those',\n",
       "  'am',\n",
       "  'is',\n",
       "  'are',\n",
       "  'was',\n",
       "  'were',\n",
       "  'be',\n",
       "  'been',\n",
       "  'being',\n",
       "  'have',\n",
       "  'has',\n",
       "  'had',\n",
       "  'having',\n",
       "  'do',\n",
       "  'does',\n",
       "  'did',\n",
       "  'doing',\n",
       "  'a',\n",
       "  'an',\n",
       "  'the',\n",
       "  'and',\n",
       "  'but',\n",
       "  'if',\n",
       "  'or',\n",
       "  'because',\n",
       "  'as',\n",
       "  'until',\n",
       "  'while',\n",
       "  'of',\n",
       "  'at',\n",
       "  'by',\n",
       "  'for',\n",
       "  'with',\n",
       "  'about',\n",
       "  'against',\n",
       "  'between',\n",
       "  'into',\n",
       "  'through',\n",
       "  'during',\n",
       "  'before',\n",
       "  'after',\n",
       "  'above',\n",
       "  'below',\n",
       "  'to',\n",
       "  'from',\n",
       "  'up',\n",
       "  'down',\n",
       "  'in',\n",
       "  'out',\n",
       "  'on',\n",
       "  'off',\n",
       "  'over',\n",
       "  'under',\n",
       "  'again',\n",
       "  'further',\n",
       "  'then',\n",
       "  'once',\n",
       "  'here',\n",
       "  'there',\n",
       "  'when',\n",
       "  'where',\n",
       "  'why',\n",
       "  'how',\n",
       "  'all',\n",
       "  'any',\n",
       "  'both',\n",
       "  'each',\n",
       "  'few',\n",
       "  'more',\n",
       "  'most',\n",
       "  'other',\n",
       "  'some',\n",
       "  'such',\n",
       "  'no',\n",
       "  'nor',\n",
       "  'not',\n",
       "  'only',\n",
       "  'own',\n",
       "  'same',\n",
       "  'so',\n",
       "  'than',\n",
       "  'too',\n",
       "  'very',\n",
       "  's',\n",
       "  't',\n",
       "  'can',\n",
       "  'will',\n",
       "  'just',\n",
       "  'don',\n",
       "  \"don't\",\n",
       "  'should',\n",
       "  \"should've\",\n",
       "  'now',\n",
       "  'd',\n",
       "  'll',\n",
       "  'm',\n",
       "  'o',\n",
       "  're',\n",
       "  've',\n",
       "  'y',\n",
       "  'ain',\n",
       "  'aren',\n",
       "  \"aren't\",\n",
       "  'couldn',\n",
       "  \"couldn't\",\n",
       "  'didn',\n",
       "  \"didn't\",\n",
       "  'doesn',\n",
       "  \"doesn't\",\n",
       "  'hadn',\n",
       "  \"hadn't\",\n",
       "  'hasn',\n",
       "  \"hasn't\",\n",
       "  'haven',\n",
       "  \"haven't\",\n",
       "  'isn',\n",
       "  \"isn't\",\n",
       "  'ma',\n",
       "  'mightn',\n",
       "  \"mightn't\",\n",
       "  'mustn',\n",
       "  \"mustn't\",\n",
       "  'needn',\n",
       "  \"needn't\",\n",
       "  'shan',\n",
       "  \"shan't\",\n",
       "  'shouldn',\n",
       "  \"shouldn't\",\n",
       "  'wasn',\n",
       "  \"wasn't\",\n",
       "  'weren',\n",
       "  \"weren't\",\n",
       "  'won',\n",
       "  \"won't\",\n",
       "  'wouldn',\n",
       "  \"wouldn't\",\n",
       "  'republican',\n",
       "  'republicans',\n",
       "  'democrats',\n",
       "  'democrat',\n",
       "  'trump',\n",
       "  'biden',\n",
       "  'bjoe']}"
      ]
     },
     "execution_count": 57,
     "metadata": {},
     "output_type": "execute_result"
    }
   ],
   "source": [
    "gs4.best_params_"
   ]
  },
  {
   "cell_type": "code",
   "execution_count": 58,
   "metadata": {
    "scrolled": true
   },
   "outputs": [
    {
     "data": {
      "text/plain": [
       "[('tvec',\n",
       "  TfidfVectorizer(analyzer='word', binary=False, decode_error='strict',\n",
       "                  dtype=<class 'numpy.float64'>, encoding='utf-8',\n",
       "                  input='content', lowercase=True, max_df=0.9, max_features=2000,\n",
       "                  min_df=2, ngram_range=(1, 2), norm='l2', preprocessor=None,\n",
       "                  smooth_idf=True,\n",
       "                  stop_words=['i', 'me', 'my', 'myself', 'we', 'our', 'ours',\n",
       "                              'ourselves', 'you', \"you're\", \"you've\", \"you'll\",\n",
       "                              \"you'd\", 'your', 'yours', 'yourself', 'yourselves',\n",
       "                              'he', 'him', 'his', 'himself', 'she', \"she's\",\n",
       "                              'her', 'hers', 'herself', 'it', \"it's\", 'its',\n",
       "                              'itself', ...],\n",
       "                  strip_accents=None, sublinear_tf=False,\n",
       "                  token_pattern='(?u)\\\\b\\\\w\\\\w+\\\\b', tokenizer=None, use_idf=True,\n",
       "                  vocabulary=None)),\n",
       " ('nb', MultinomialNB(alpha=1.0, class_prior=None, fit_prior=True))]"
      ]
     },
     "execution_count": 58,
     "metadata": {},
     "output_type": "execute_result"
    }
   ],
   "source": [
    "gs4.best_estimator_.steps"
   ]
  },
  {
   "cell_type": "markdown",
   "metadata": {},
   "source": [
    "## Consolidate all Vector Models and Identify Best Performing Model"
   ]
  },
  {
   "cell_type": "markdown",
   "metadata": {},
   "source": [
    "<font color=blue>The train and test scores using the best hyperparameters would be consolidated for review and selection. The criteria chosen for the model selection would be based on the highest cross-validated training score (<b>best_score_</b>) amongst all the models.</font>"
   ]
  },
  {
   "cell_type": "code",
   "execution_count": 59,
   "metadata": {},
   "outputs": [
    {
     "data": {
      "text/html": [
       "<div>\n",
       "<style scoped>\n",
       "    .dataframe tbody tr th:only-of-type {\n",
       "        vertical-align: middle;\n",
       "    }\n",
       "\n",
       "    .dataframe tbody tr th {\n",
       "        vertical-align: top;\n",
       "    }\n",
       "\n",
       "    .dataframe thead th {\n",
       "        text-align: right;\n",
       "    }\n",
       "</style>\n",
       "<table border=\"1\" class=\"dataframe\">\n",
       "  <thead>\n",
       "    <tr style=\"text-align: right;\">\n",
       "      <th></th>\n",
       "      <th>Model Combination</th>\n",
       "      <th>Best Score</th>\n",
       "      <th>Train Accuracy</th>\n",
       "      <th>Test Accuracy</th>\n",
       "    </tr>\n",
       "  </thead>\n",
       "  <tbody>\n",
       "    <tr>\n",
       "      <th>0</th>\n",
       "      <td>Baseline Model</td>\n",
       "      <td>0.500000</td>\n",
       "      <td>NA</td>\n",
       "      <td>NA</td>\n",
       "    </tr>\n",
       "    <tr>\n",
       "      <th>1</th>\n",
       "      <td>CountVec_Logistic</td>\n",
       "      <td>0.682305</td>\n",
       "      <td>0.850206</td>\n",
       "      <td>0.691358</td>\n",
       "    </tr>\n",
       "    <tr>\n",
       "      <th>2</th>\n",
       "      <td>CountVec_Multinomial</td>\n",
       "      <td>0.679012</td>\n",
       "      <td>0.889712</td>\n",
       "      <td>0.706173</td>\n",
       "    </tr>\n",
       "    <tr>\n",
       "      <th>3</th>\n",
       "      <td>Tfid_Logistic</td>\n",
       "      <td>0.680658</td>\n",
       "      <td>0.91358</td>\n",
       "      <td>0.708642</td>\n",
       "    </tr>\n",
       "    <tr>\n",
       "      <th>4</th>\n",
       "      <td>Tfid_Multinomial</td>\n",
       "      <td>0.682305</td>\n",
       "      <td>0.900412</td>\n",
       "      <td>0.703704</td>\n",
       "    </tr>\n",
       "  </tbody>\n",
       "</table>\n",
       "</div>"
      ],
      "text/plain": [
       "      Model Combination  Best Score Train Accuracy Test Accuracy\n",
       "0        Baseline Model    0.500000             NA            NA\n",
       "1     CountVec_Logistic    0.682305       0.850206      0.691358\n",
       "2  CountVec_Multinomial    0.679012       0.889712      0.706173\n",
       "3         Tfid_Logistic    0.680658        0.91358      0.708642\n",
       "4      Tfid_Multinomial    0.682305       0.900412      0.703704"
      ]
     },
     "execution_count": 59,
     "metadata": {},
     "output_type": "execute_result"
    }
   ],
   "source": [
    "result =[['Baseline Model',0.5, 'NA', 'NA'],['CountVec_Logistic',gs.best_score_,gs.score(X_train, y_train),gs.score(X_test, y_test)],['CountVec_Multinomial',gs2.best_score_,gs2.score(X_train, y_train),gs2.score(X_test, y_test)],['Tfid_Logistic',gs3.best_score_,gs3.score(X_train, y_train),gs3.score(X_test, y_test)],['Tfid_Multinomial',gs4.best_score_,gs4.score(X_train, y_train),gs4.score(X_test, y_test)]]\n",
    "score = pd.DataFrame(result, columns=['Model Combination', 'Best Score', 'Train Accuracy', 'Test Accuracy'])\n",
    "score"
   ]
  },
  {
   "cell_type": "markdown",
   "metadata": {},
   "source": [
    "<font color=blue>From the findings above, we can deduce that the model with the best accuracy would be the <font color=black><b>Logistic Regression Classifier</b></font> using the <font color=black><b>Count Vectorization</b></font> method since the score of <font color=black><b>0.68</b></font> is the highest amongst all the other model combinations. Also, the pre-training score and test scores for countvec logistic had an approximate <font color=black><b>0.17 delta</b></font>, which was the lowest amongst all the options. This reinforces the rationale for selection as it shows that the training data was the lowest in terms of overfitting. And overall, it is an improved accuracy over the initial baseline score of 0.5.</font>"
   ]
  },
  {
   "cell_type": "code",
   "execution_count": 60,
   "metadata": {
    "scrolled": false
   },
   "outputs": [
    {
     "data": {
      "text/plain": [
       "[('cvec',\n",
       "  CountVectorizer(analyzer='word', binary=False, decode_error='strict',\n",
       "                  dtype=<class 'numpy.int64'>, encoding='utf-8', input='content',\n",
       "                  lowercase=True, max_df=0.9, max_features=1500, min_df=2,\n",
       "                  ngram_range=(1, 2), preprocessor=None,\n",
       "                  stop_words=['i', 'me', 'my', 'myself', 'we', 'our', 'ours',\n",
       "                              'ourselves', 'you', \"you're\", \"you've\", \"you'll\",\n",
       "                              \"you'd\", 'your', 'yours', 'yourself', 'yourselves',\n",
       "                              'he', 'him', 'his', 'himself', 'she', \"she's\",\n",
       "                              'her', 'hers', 'herself', 'it', \"it's\", 'its',\n",
       "                              'itself', ...],\n",
       "                  strip_accents=None, token_pattern='(?u)\\\\b\\\\w\\\\w+\\\\b',\n",
       "                  tokenizer=None, vocabulary=None)),\n",
       " ('lr',\n",
       "  LogisticRegression(C=0.09770099572992247, class_weight=None, dual=False,\n",
       "                     fit_intercept=True, intercept_scaling=1, l1_ratio=None,\n",
       "                     max_iter=100, multi_class='auto', n_jobs=None, penalty='l2',\n",
       "                     random_state=None, solver='liblinear', tol=0.0001, verbose=0,\n",
       "                     warm_start=False))]"
      ]
     },
     "execution_count": 60,
     "metadata": {},
     "output_type": "execute_result"
    }
   ],
   "source": [
    "# Review the best parameters leading to most ideal score\n",
    "gs.best_estimator_.steps"
   ]
  },
  {
   "cell_type": "markdown",
   "metadata": {},
   "source": [
    "<font color=blue>The optimal pipe model parameters are:<br />\n",
    "    <ul>\n",
    "    <li><b>max_df</b> - 0.9</li>\n",
    "    <li><b>min_df</b> - 2</li>\n",
    "    <li><b>max_features</b> - 1500</li>\n",
    "    <li><b>ngram_range</b> - (1, 2)</li>\n",
    "    <li><b>penalty</b>- l2</li>\n",
    "    </font>"
   ]
  },
  {
   "cell_type": "markdown",
   "metadata": {},
   "source": [
    "### Analyze confusion matrix and coefficients for the selected classifier model"
   ]
  },
  {
   "cell_type": "code",
   "execution_count": 61,
   "metadata": {},
   "outputs": [],
   "source": [
    "predictions = gs.predict(X_test)"
   ]
  },
  {
   "cell_type": "code",
   "execution_count": 62,
   "metadata": {},
   "outputs": [
    {
     "data": {
      "text/plain": [
       "array([[144,  59],\n",
       "       [ 66, 136]], dtype=int64)"
      ]
     },
     "execution_count": 62,
     "metadata": {},
     "output_type": "execute_result"
    }
   ],
   "source": [
    "# Generate a confusion matrix.\n",
    "confusion_matrix(y_test, predictions)"
   ]
  },
  {
   "cell_type": "code",
   "execution_count": 63,
   "metadata": {},
   "outputs": [],
   "source": [
    "tn, fp, fn, tp = confusion_matrix(y_test, predictions).ravel()"
   ]
  },
  {
   "cell_type": "code",
   "execution_count": 64,
   "metadata": {
    "scrolled": true
   },
   "outputs": [
    {
     "name": "stdout",
     "output_type": "stream",
     "text": [
      "True Negatives: 144\n",
      "False Positives: 59\n",
      "False Negatives: 66\n",
      "True Positives: 136\n"
     ]
    }
   ],
   "source": [
    "print(\"True Negatives: %s\" % tn)\n",
    "print(\"False Positives: %s\" % fp)\n",
    "print(\"False Negatives: %s\" % fn)\n",
    "print(\"True Positives: %s\" % tp)"
   ]
  },
  {
   "cell_type": "code",
   "execution_count": 65,
   "metadata": {},
   "outputs": [],
   "source": [
    "# Assign a variable to the best estimator\n",
    "\n",
    "best_lr= gs.best_estimator_"
   ]
  },
  {
   "cell_type": "code",
   "execution_count": 66,
   "metadata": {
    "scrolled": true
   },
   "outputs": [
    {
     "name": "stdout",
     "output_type": "stream",
     "text": [
      "              precision    recall  f1-score   support\n",
      "\n",
      "           0       0.69      0.71      0.70       203\n",
      "           1       0.70      0.67      0.69       202\n",
      "\n",
      "    accuracy                           0.69       405\n",
      "   macro avg       0.69      0.69      0.69       405\n",
      "weighted avg       0.69      0.69      0.69       405\n",
      "\n"
     ]
    }
   ],
   "source": [
    "# Generate predictions using the best estimator model\n",
    "\n",
    "best_lr_y_pred = best_lr.predict(X_test)\n",
    "print(classification_report(y_test, best_lr_y_pred))"
   ]
  },
  {
   "cell_type": "markdown",
   "metadata": {},
   "source": [
    "<font color=blue>The classification report shows that the precision of the prediction between both Democrats and Republicans are approximately the same at around 70%. The recall is also almost similarly matched with the model having a ~4% harder time detecting that a democrat post comes from the democrat reddit. This suggests that the republicans have more distinguishing keywords in their word base. The almost similar f1-score also indicates that there is a very equal balance between the precision and recall.\n",
    "</font>"
   ]
  },
  {
   "cell_type": "code",
   "execution_count": 67,
   "metadata": {},
   "outputs": [
    {
     "data": {
      "text/plain": [
       "array([[ 0.24896955,  0.06028834,  0.05301011, ..., -0.06938999,\n",
       "         0.02641956, -0.1729713 ]])"
      ]
     },
     "execution_count": 67,
     "metadata": {},
     "output_type": "execute_result"
    }
   ],
   "source": [
    "best_lr.named_steps['lr'].coef_"
   ]
  },
  {
   "cell_type": "code",
   "execution_count": 68,
   "metadata": {},
   "outputs": [],
   "source": [
    "# Construct a dataframe containing the features and coefficients for comparison\n",
    "coefs = pd.DataFrame(gs.best_estimator_.steps[1][1].coef_).T\n",
    "coefs.columns = ['coef']\n",
    "coefs['word'] = gs.best_estimator_.steps[0][1].get_feature_names()\n",
    "coefs = coefs[['word','coef']]\n",
    "coefs = coefs.sort_values('coef')"
   ]
  },
  {
   "cell_type": "code",
   "execution_count": 69,
   "metadata": {},
   "outputs": [
    {
     "data": {
      "text/plain": [
       "1500"
      ]
     },
     "execution_count": 69,
     "metadata": {},
     "output_type": "execute_result"
    }
   ],
   "source": [
    "# Reconfirm the number of coefficients which should be matching the ideal feature size\n",
    "len(coefs)"
   ]
  },
  {
   "cell_type": "code",
   "execution_count": 70,
   "metadata": {},
   "outputs": [
    {
     "data": {
      "text/html": [
       "<div>\n",
       "<style scoped>\n",
       "    .dataframe tbody tr th:only-of-type {\n",
       "        vertical-align: middle;\n",
       "    }\n",
       "\n",
       "    .dataframe tbody tr th {\n",
       "        vertical-align: top;\n",
       "    }\n",
       "\n",
       "    .dataframe thead th {\n",
       "        text-align: right;\n",
       "    }\n",
       "</style>\n",
       "<table border=\"1\" class=\"dataframe\">\n",
       "  <thead>\n",
       "    <tr style=\"text-align: right;\">\n",
       "      <th></th>\n",
       "      <th>word</th>\n",
       "      <th>coef</th>\n",
       "    </tr>\n",
       "  </thead>\n",
       "  <tbody>\n",
       "    <tr>\n",
       "      <th>125</th>\n",
       "      <td>black</td>\n",
       "      <td>-0.478354</td>\n",
       "    </tr>\n",
       "    <tr>\n",
       "      <th>1172</th>\n",
       "      <td>statue</td>\n",
       "      <td>-0.427404</td>\n",
       "    </tr>\n",
       "    <tr>\n",
       "      <th>186</th>\n",
       "      <td>china</td>\n",
       "      <td>-0.395839</td>\n",
       "    </tr>\n",
       "    <tr>\n",
       "      <th>1052</th>\n",
       "      <td>seattle</td>\n",
       "      <td>-0.380208</td>\n",
       "    </tr>\n",
       "    <tr>\n",
       "      <th>649</th>\n",
       "      <td>left</td>\n",
       "      <td>-0.372897</td>\n",
       "    </tr>\n",
       "    <tr>\n",
       "      <th>193</th>\n",
       "      <td>city</td>\n",
       "      <td>-0.338466</td>\n",
       "    </tr>\n",
       "    <tr>\n",
       "      <th>64</th>\n",
       "      <td>america</td>\n",
       "      <td>-0.322226</td>\n",
       "    </tr>\n",
       "    <tr>\n",
       "      <th>719</th>\n",
       "      <td>media</td>\n",
       "      <td>-0.314497</td>\n",
       "    </tr>\n",
       "    <tr>\n",
       "      <th>642</th>\n",
       "      <td>leaders</td>\n",
       "      <td>-0.311132</td>\n",
       "    </tr>\n",
       "    <tr>\n",
       "      <th>712</th>\n",
       "      <td>mayor</td>\n",
       "      <td>-0.297485</td>\n",
       "    </tr>\n",
       "  </tbody>\n",
       "</table>\n",
       "</div>"
      ],
      "text/plain": [
       "         word      coef\n",
       "125     black -0.478354\n",
       "1172   statue -0.427404\n",
       "186     china -0.395839\n",
       "1052  seattle -0.380208\n",
       "649      left -0.372897\n",
       "193      city -0.338466\n",
       "64    america -0.322226\n",
       "719     media -0.314497\n",
       "642   leaders -0.311132\n",
       "712     mayor -0.297485"
      ]
     },
     "execution_count": 70,
     "metadata": {},
     "output_type": "execute_result"
    }
   ],
   "source": [
    "# Examine the top few performing ngrams\n",
    "coefs.head(10)"
   ]
  },
  {
   "cell_type": "markdown",
   "metadata": {},
   "source": [
    "<font color=blue>Some of the notable negative top few correlation words having influence on the model are:<br />\n",
    "    <ul>\n",
    "    <li><b>black</b> - Presumably linked to the protests and Black-Lives-Matter movement</li>\n",
    "    <li><b>statue</b> - Presumably linked to statue vandalization incident</li>\n",
    "    <li><b>china</b>- Presumably linked to the trade wars and disputes with China or the coronavirus situation</li>\n",
    "    <li><b>seattle</b> - Presumably linked to the police funding dispute in Seattle</li>\n",
    "        <li><b>left</b> - Presumably refers to the democrats</li>\n",
    "    </ul>   \n",
    "If we compare these words to the prominent top words in the individual subreddits, we can infer that a common range of issues are equally affecting both the democratic and republican supporters.\n",
    "    \n",
    " <b>However, it must be stressed that although these words have a heavy influence on the model performance, care should be taken to review if the real life post sentiment starts to shift according to new events. Most of the words having that correlation will soon be overtaken by new events, rendering this model to be less effective unless it is trained against a new and more recent word base.</b>   \n",
    "    \n",
    "</font>"
   ]
  },
  {
   "cell_type": "markdown",
   "metadata": {},
   "source": [
    "## <font color=black>Conclusions & Recommendations</font>"
   ]
  },
  {
   "cell_type": "markdown",
   "metadata": {},
   "source": [
    "<font color=blue>\n",
    "    \n",
    "The genesis of this project was to compete strongly with Trump in popularity presidential polls by finding and developing a classification model that could accurately identify web posts as belonging to democratic or republican voters. This would gain insight as to the trending issues among both camps and help the Biden campaign team forge a solid strategy to win over more supporters.\n",
    "   \n",
    "To recap, the following methodology was performed to meet these objectives:\n",
    "<ul>\n",
    "<li>Information was scraped from 2 relevant subreddits belonging to Democratic and Republican board as a starting basis</li>\n",
    "<li>The individual subreddit data was first analyzed for the word trends during EDA</li>\n",
    "<li>The merged data was also analyzed for the word trends during EDA</li>\n",
    "<li>The training and test splits were created</li>\n",
    "<li>Subsequently, four combination of vector-classification models were run to derive the best performing model</li>\n",
    "<li>Gridsearch hyperparameters tuning and stopwords were used to refine the model</li>\n",
    "<li>Parameters and word coefficients of the selected classification model were also derived</li>\n",
    " </ul>   \n",
    "The best classification model identified for the campaign team turned out to be the Logistic Regression using the Count Vectorizer. The use of this tool could achieve training accuracy rates of up to 68%.\n",
    "    \n",
    "Also identified, were important top performing key words that were common to both the democrats and republicans through the barplot and wordcloud visualizations. To name the most relevant ones were words pertaining to the Black-Lives-Movement (BLM), the ongoing racial protests, the involvement of the police in the riots, the coronavirus and also both the presidential candidates.\n",
    "    \n",
    "Using the these results, the following <b>inferences</b> can be made:\n",
    "<ul>   \n",
    "<li>Unity with the black community will be an important card to play given that the race gap is narrow and that Biden has the possible chance to reinforce and win over more black support</li>\n",
    "<li>Trump is a very prominent and controversial talking point amongst both camps and hence a strategy catered towards him might sway public opinion</li>   \n",
    "<li>Although the pandemic situation has been temporarily overshadowed by the Minnneapolis riots, it still remains a concern amongst the electorate</li> \n",
    "<li>Recency of events is a very critical component of how the model functions and is also very relevant to the presidential race given it reacts to ever changing events daily</li> \n",
    "</ul>   \n",
    "To this end, the campaign committee makes the following <b>recommendations</b>:\n",
    "<ul>\n",
    "<li>Communicate a message of solidarity with the black community</li>  \n",
    "<li>Get endorsement from prominent black figures such as Obama</li>      \n",
    "<li>Gain publicity by engaging in black community events such as talk shows</li>     \n",
    "<li>Consider having a colored running mate VP for black representation</li>      \n",
    "<li>Spread online campaign on black unity using online and printed media</li>    \n",
    "<li>Come up with a comprehensive plan to combat the Covid 19 situation</li>    \n",
    "<li>Communicate the plan strongly and emphasize on the rising infection numbers and death toll</li> \n",
    "</ul>   \n",
    "Actioning a response based on the above recommendations would help Biden win more support in dealing with two big national crises and show confidence in dealing with the hard challenges faced by the nation. This would in turn help to swing more undecided voters or even republican supporters through a rational approach on tackling issues close to them.\n",
    "\n",
    "Future steps to move this project forward would be to gather even more data to formulate the model basis such as collecting comments from reddit, extracting a greater range of data beyond the 1,000 post limit or to start executing the model on additional online discussion platforms such as social media.\n",
    "\n",
    "</font>"
   ]
  }
 ],
 "metadata": {
  "kernelspec": {
   "display_name": "Python 3",
   "language": "python",
   "name": "python3"
  },
  "language_info": {
   "codemirror_mode": {
    "name": "ipython",
    "version": 3
   },
   "file_extension": ".py",
   "mimetype": "text/x-python",
   "name": "python",
   "nbconvert_exporter": "python",
   "pygments_lexer": "ipython3",
   "version": "3.7.6"
  }
 },
 "nbformat": 4,
 "nbformat_minor": 4
}
